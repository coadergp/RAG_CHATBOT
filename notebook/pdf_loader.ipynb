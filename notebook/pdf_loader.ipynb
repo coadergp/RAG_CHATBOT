{
 "cells": [
  {
   "cell_type": "markdown",
   "id": "6c879503",
   "metadata": {},
   "source": [
    "### RAG Pipelines- Data Ingestion to Vector DB Pipeline"
   ]
  },
  {
   "cell_type": "code",
   "execution_count": null,
   "id": "8d6377b9",
   "metadata": {},
   "outputs": [
    {
     "name": "stderr",
     "output_type": "stream",
     "text": [
      "c:\\Users\\gurup\\Documents\\RAG_CHAT_BOT\\venv\\Lib\\site-packages\\tqdm\\auto.py:21: TqdmWarning: IProgress not found. Please update jupyter and ipywidgets. See https://ipywidgets.readthedocs.io/en/stable/user_install.html\n",
      "  from .autonotebook import tqdm as notebook_tqdm\n"
     ]
    }
   ],
   "source": [
    "import os\n",
    "from langchain_community.document_loaders import PyPDFLoader, PyMuPDFLoader\n",
    "from langchain_text_splitters import RecursiveCharacterTextSplitter\n",
    "from pathlib import Path"
   ]
  },
  {
   "cell_type": "code",
   "execution_count": null,
   "id": "88a312dc",
   "metadata": {},
   "outputs": [
    {
     "name": "stdout",
     "output_type": "stream",
     "text": [
      "Found 1 PDF files to process\n",
      "\n",
      "Processing: 21120_ABB_Synchronous_motors.pdf\n",
      "  ✓ Loaded 20 pages\n",
      "\n",
      "Total documents loaded: 20\n"
     ]
    }
   ],
   "source": [
    "### Read all the pdf's inside the directory\n",
    "def process_all_pdfs(pdf_directory):\n",
    "    \"\"\"Process all PDF files in a directory\"\"\"\n",
    "    all_documents = []\n",
    "    pdf_dir = Path(pdf_directory)\n",
    "    \n",
    "    # Find all PDF files recursively\n",
    "    pdf_files = list(pdf_dir.glob(\"**/*.pdf\"))\n",
    "    \n",
    "    print(f\"Found {len(pdf_files)} PDF files to process\")\n",
    "    \n",
    "    for pdf_file in pdf_files:\n",
    "        print(f\"\\nProcessing: {pdf_file.name}\")\n",
    "        try:\n",
    "            loader = PyPDFLoader(str(pdf_file))\n",
    "            documents = loader.load()\n",
    "            \n",
    "            # Add source information to metadata\n",
    "            for doc in documents:\n",
    "                doc.metadata['source_file'] = pdf_file.name\n",
    "                doc.metadata['file_type'] = 'pdf'\n",
    "            \n",
    "            all_documents.extend(documents)\n",
    "            print(f\"  ✓ Loaded {len(documents)} pages\")\n",
    "            \n",
    "        except Exception as e:\n",
    "            print(f\"  ✗ Error: {e}\")\n",
    "    \n",
    "    print(f\"\\nTotal documents loaded: {len(all_documents)}\")\n",
    "    return all_documents\n",
    "\n",
    "# Process all PDFs in the data directory\n",
    "all_pdf_documents = process_all_pdfs(\"../data\")"
   ]
  },
  {
   "cell_type": "code",
   "execution_count": null,
   "id": "96748c96",
   "metadata": {},
   "outputs": [
    {
     "data": {
      "text/plain": [
       "[Document(metadata={'producer': 'Adobe PDF Library 15.0', 'creator': 'Adobe InDesign CC 14.0 (Macintosh)', 'creationdate': '2018-12-17T10:36:57+02:00', 'moddate': '2018-12-17T10:37:17+02:00', 'trapped': '/False', 'source': '..\\\\data\\\\pdf\\\\21120_ABB_Synchronous_motors.pdf', 'total_pages': 20, 'page': 0, 'page_label': 'U1', 'source_file': '21120_ABB_Synchronous_motors.pdf', 'file_type': 'pdf'}, page_content='— \\nSynchronous motors\\nHigh performance in all applications\\n—\\nBROCHURE  \\nSynchronous motors\\nHigh performance in all applications\\nABB synchronous motors help  \\nour customers to cut operating, \\nmaintenance and energy costs while \\nlowering environmental impact.'),\n",
       " Document(metadata={'producer': 'Adobe PDF Library 15.0', 'creator': 'Adobe InDesign CC 14.0 (Macintosh)', 'creationdate': '2018-12-17T10:36:57+02:00', 'moddate': '2018-12-17T10:37:17+02:00', 'trapped': '/False', 'source': '..\\\\data\\\\pdf\\\\21120_ABB_Synchronous_motors.pdf', 'total_pages': 20, 'page': 1, 'page_label': '2', 'source_file': '21120_ABB_Synchronous_motors.pdf', 'file_type': 'pdf'}, page_content='— \\nWe provide motors and \\ngenerators, services and \\nexpertise to save energy  \\nand improve customers’ \\nprocesses over the total life \\ncycle of our products, and \\nbeyond.'),\n",
       " Document(metadata={'producer': 'Adobe PDF Library 15.0', 'creator': 'Adobe InDesign CC 14.0 (Macintosh)', 'creationdate': '2018-12-17T10:36:57+02:00', 'moddate': '2018-12-17T10:37:17+02:00', 'trapped': '/False', 'source': '..\\\\data\\\\pdf\\\\21120_ABB_Synchronous_motors.pdf', 'total_pages': 20, 'page': 2, 'page_label': '3', 'source_file': '21120_ABB_Synchronous_motors.pdf', 'file_type': 'pdf'}, page_content='— \\nTable of contents\\n004  Synchronous motors  \\nfrom the world’s leading \\nsupplier \\n005  Efficiency and reliability  \\nfor a wide range of applications \\n006  Fixed and variable speed motors \\n008  Proven reliability\\n010  Effective cooling \\n011  Bearings and accessories\\n012  Robust frame\\n013  Excitation\\n014  Proven insulation system\\n015  Testing\\n016  Life cycle services and support\\n017 Total product offering'),\n",
       " Document(metadata={'producer': 'Adobe PDF Library 15.0', 'creator': 'Adobe InDesign CC 14.0 (Macintosh)', 'creationdate': '2018-12-17T10:36:57+02:00', 'moddate': '2018-12-17T10:37:17+02:00', 'trapped': '/False', 'source': '..\\\\data\\\\pdf\\\\21120_ABB_Synchronous_motors.pdf', 'total_pages': 20, 'page': 3, 'page_label': '4', 'source_file': '21120_ABB_Synchronous_motors.pdf', 'file_type': 'pdf'}, page_content='4\\nSYNCHRONOUS MOTORS HIGH PERFORMANCE IN ALL APPLICATIONS\\n—\\nSynchronous motors  \\nfrom the world’s leading supplier\\nHigh performance in all applications\\nDesigned to provide outstanding reliability and efficiency,  \\nABB synchronous motors help our customers to cut operating, \\nmaintenance and energy costs while lowering environmental impact.\\nABB is the market’s leading supplier of \\nsynchronous motors and generators. All over the \\nworld our synchronous motors are delivering \\nsuperior performance in industrial processes, the \\nmarine and offshore industries, utilities, and \\nspecialized applications.\\nWe have been designing and manufacturing AC \\nmotors for mission-critical applications for more \\nthan 130 years, and our experience and \\napplication knowledge have made us the \\npreferred supplier in many different industries.\\nABB synchronous motors are based on modular \\nand standardized platforms. Working together \\nwith customers, we use our know-how of \\ndifferent applications to tailor cost-effective \\nsolutions. The flexible design concept enables us \\nto adapt motors for almost every kind of \\napplication.\\nWe offer predefined maintenance programs for \\nall lifetime phases of all ABB motors, and \\npreventive diagnosis and updates can help to \\nfurther boost your competitiveness when \\nneeded.\\nThe global ABB network ensures local service \\ndelivery whenever and wherever you need it. \\nAround the world we have over 60 service centers \\nand more than 150 authorized service providers \\nready to support you.'),\n",
       " Document(metadata={'producer': 'Adobe PDF Library 15.0', 'creator': 'Adobe InDesign CC 14.0 (Macintosh)', 'creationdate': '2018-12-17T10:36:57+02:00', 'moddate': '2018-12-17T10:37:17+02:00', 'trapped': '/False', 'source': '..\\\\data\\\\pdf\\\\21120_ABB_Synchronous_motors.pdf', 'total_pages': 20, 'page': 4, 'page_label': '5', 'source_file': '21120_ABB_Synchronous_motors.pdf', 'file_type': 'pdf'}, page_content='5\\n—\\nEfficiency and reliability  \\nfor a wide range of applications\\nMotors that match your needs\\nABB synchronous motors deliver efficient and reliable operation  \\nin a wide range of applications. We have a strong track record in tailoring \\nmotors to match customer needs across different industries.\\nExamples of industries and applications where our motors are operating include:\\n• Oil, gas and petrochemical: compressors, pumps, fans and extruders\\n• Marine and offshore: variable speed motors in azimuthing propulsors and shaft line applications\\n• Metals and minerals: rolling mills, hoists, processing lines, semi-autogenous grinding (SAG) mills, ball \\nmills and blowers\\n• Power utilities: pumps, fans and condensers\\n• Pulp and paper: chippers, refiners and grinders\\n• Water and wastewater: pumps\\n• Air separation: compressors\\n• Specialized applications: wind tunnel motors and motor-generator sets\\n—\\nWater and wastewater\\n—\\nAir separation\\n—\\nCement\\n—\\nOil, gas and petrochemical \\n—\\nMarine\\n—\\nMetals and minerals\\n—\\nMining\\n—\\nPower generation\\n—\\nPulp and paper'),\n",
       " Document(metadata={'producer': 'Adobe PDF Library 15.0', 'creator': 'Adobe InDesign CC 14.0 (Macintosh)', 'creationdate': '2018-12-17T10:36:57+02:00', 'moddate': '2018-12-17T10:37:17+02:00', 'trapped': '/False', 'source': '..\\\\data\\\\pdf\\\\21120_ABB_Synchronous_motors.pdf', 'total_pages': 20, 'page': 5, 'page_label': '6', 'source_file': '21120_ABB_Synchronous_motors.pdf', 'file_type': 'pdf'}, page_content=\"6\\nSYNCHRONOUS MOTORS HIGH PERFORMANCE IN ALL APPLICATIONS\\n—\\nFixed and variable speed motors\\nTailored to application requirements\\nABB motor designs are always optimized for the specific application, ensuring  \\nthe correct starting method is used. The starting method is selected primarily on  \\nthe basis of customer requirements, network capability and process demands.\\nFixed speed motors\\nFixed speed synchronous motors are typically \\nused in applications like compressors, fans, \\npumps, wood grinders and refiners.\\nThe most commonly used starting methods for \\nfixed speed synchronous motors are direct-on-\\nline (DOL), reactor, autotransformer, load \\ncommutated inverter (LCI, 'soft starter'), \\ncapacitor and reactor capacitor.\\nVariable speed motors\\nVariable speed synchronous motors are often \\nused in demanding applications in process \\nindustries and in applications where variable \\nspeed delivers clear benefits. Rolling mills, mine \\nhoists, pumps and compressors are typical \\nexamples of variable speed applications. \\nSynchronous motors with variable speed drives \\n(VSDs) are also commonly used in the main \\npropulsion system in ships. Optimized electrical \\ndrive systems with variable speed motors can \\nalso provide considerable energy savings in \\napplications like extruders, compressors and \\npumps.\\nWe supply motors and drives that meet torque \\nrequirements over the entire operating range, \\nfrom zero to maximum process speed. This \\nensures smooth starting, acceleration and \\noperation. We offer optimized ABB motor-drive \\npackages for the best possible variable speed \\nsolution. These consist of an ABB synchronous \\nmotor combined with an ABB load commutated \\ninverter or ABB voltage source inverter.\\nWe use our engineering and application know-\\nhow to ensure that all the components in \\nelectrical drive packages, particularly the \\nconverter-motor interface, are optimally \\nintegrated to match the process. Benefits include \\nspecial converter-fed motor designs, increased \\nefficiency and improved torque production \\ncapabilities.\\nABB motor designs are always optimized for the \\ntype of converter that is most suitable for the \\napplication. Our motors can be combined with all \\ncommon converter types: load commutated \\ninverter (LCI), cycloconverter (C) and voltage \\nsource inverter (VSI).\"),\n",
       " Document(metadata={'producer': 'Adobe PDF Library 15.0', 'creator': 'Adobe InDesign CC 14.0 (Macintosh)', 'creationdate': '2018-12-17T10:36:57+02:00', 'moddate': '2018-12-17T10:37:17+02:00', 'trapped': '/False', 'source': '..\\\\data\\\\pdf\\\\21120_ABB_Synchronous_motors.pdf', 'total_pages': 20, 'page': 6, 'page_label': '7', 'source_file': '21120_ABB_Synchronous_motors.pdf', 'file_type': 'pdf'}, page_content='7\\n—\\nOutput ranges of ABB synchronous motors (from 1 to 75 MW, 1 to 15 kV).\\nFixed spe ed motors\\n70\\n60\\n50\\n40\\n30\\n20\\n10\\n0\\n100 200 300 400 500 600 700 800 900 1000 1100 1200 1300 1400 1500 1600 1700 1800 1900 2000\\nSpeed (rpm)\\nOutput (MW)\\nAMZ 2500\\nAMZ 2000\\nAMZ 1600\\nAMZ 1250\\nAMZ 1120\\nAMZ 0900\\nAMZ 0710\\nAMS 1250\\nAMS 1120\\nAMS 1000\\nAMS 900\\nAMS 800\\nAMS 710\\n80\\nAMS 1400\\nVariable sp eed motors\\n50\\n40\\n30\\n20\\n10\\n0\\n100 200 300 400 500 600 700 800 900 1000 1100 1200 1300 1400 1500 1600 1700 1800 1900 2000\\nSpeed (rpm)\\nOutput (MW)\\n80\\n70\\n60\\nAMZ 2500\\nAMZ 2000\\nAMZ 1600\\nAMZ 1250\\nAMZ 1120\\nAMZ 0900\\nAMZ 0710\\nAMS 1250\\nAMS 1120\\nAMS 1000\\nAMS 900\\nAMS 800\\nAMS 710\\nAMS 1400\\n50\\n40\\n30\\n20\\n10\\n0\\n100 200 300 400 500 600 700 800 900 1000 1100 1200 1300 1400 1500 1600 1700 1800 1900 2000\\nSpeed (rpm)\\nOutput (MW)\\n80\\n70\\n60'),\n",
       " Document(metadata={'producer': 'Adobe PDF Library 15.0', 'creator': 'Adobe InDesign CC 14.0 (Macintosh)', 'creationdate': '2018-12-17T10:36:57+02:00', 'moddate': '2018-12-17T10:37:17+02:00', 'trapped': '/False', 'source': '..\\\\data\\\\pdf\\\\21120_ABB_Synchronous_motors.pdf', 'total_pages': 20, 'page': 7, 'page_label': '8', 'source_file': '21120_ABB_Synchronous_motors.pdf', 'file_type': 'pdf'}, page_content='8\\nSYNCHRONOUS MOTORS HIGH PERFORMANCE IN ALL APPLICATIONS\\n—\\nProven reliability\\nIncreased productivity for your operations\\nABB synchronous motors are renowned for their proven quality and reliability.  \\nRobust design ensures reliability through cool operating temperatures and  \\nlow vibration.\\nRotor\\nThe rotor plays a crucial part in achieving the best \\npossible electrical and mechanical performance.\\nHigher speed motors (four and six poles) have \\nsolid rotors with integrated poles made from a \\none-piece steel forging. A solid pole plate is \\nattached to the pole, a design that has good \\noverload capability and low harmonics. At the \\nsame time this rotor configuration contributes to \\nexcellent starting characteristics, high starting \\ntorque and low starting current.\\nThe large cooling surfaces and effective flow of \\ncooling air keep the rotor temperature low and \\nuniform, helping to ensure reliability and a long \\noperating life.\\nThe coils are class H insulated for extra thermal \\nmargins. The rigid rotor construction and \\nminimum distance between bearings ensure that \\nthe motor operates below the first critical speed, \\nkeeping vibration levels low.\\nLower speed motors (eight or more poles) \\ntypically have rotors with the poles manufactured \\nfrom 2 mm laminated steel sheet. The sheets are \\npressed together with inserted steel bars which \\nare welded to the end plates.\\nFor lower speed motors the technically preferred \\noption is to vacuum pressure impregnate (VPI) \\nthe rotor assembly after it is wound to achieve \\nexcellent insulation and mechanical strength. \\nAfter impregnation, the complete rotor assembly \\nis dynamically checked for balance.\\nPermanent magnet poles are used in certain \\nvariable speed applications. Permanent magnet \\nrotors are straightforward constructions and do'),\n",
       " Document(metadata={'producer': 'Adobe PDF Library 15.0', 'creator': 'Adobe InDesign CC 14.0 (Macintosh)', 'creationdate': '2018-12-17T10:36:57+02:00', 'moddate': '2018-12-17T10:37:17+02:00', 'trapped': '/False', 'source': '..\\\\data\\\\pdf\\\\21120_ABB_Synchronous_motors.pdf', 'total_pages': 20, 'page': 8, 'page_label': '9', 'source_file': '21120_ABB_Synchronous_motors.pdf', 'file_type': 'pdf'}, page_content='9\\nnot need an excitation system. When necessary, \\nhigh pole numbers can be used in low speed \\napplications.\\nShaft\\nThe shaft is manufactured from forged or rolled \\nsteel and machined to exact specifications. The \\nshaft ends can be cylindrical, conical or flanged. Also \\ntwo shaft ends can be provided (double end drive).\\nRotor windings\\nThe rotor windings consist of either preformed \\nenameled rectangular copper wire or flat copper. \\nProper supports between adjacent windings \\nensure stability up to the rated overspeed.  \\nThe rotor windings are made to match (at the \\nminimum) the insulation class of the stator.  \\nThis ensures outstanding reliability and a long \\nservice life, even with asymmetric loads or under \\nexceptional conditions.\\nModular stator design\\nEach application has its own specific \\nrequirements in terms of motor performance. Our \\nmodular stator design allows us to precisely \\nmatch the performance of every ABB synchronous \\nmotor to the needs of its application.\\nThe use of high grade core material increases \\nefficiency and reduces operating costs. Radial \\ncooling ducts ensure uniform and effective \\ncooling.\\nThe rigid stator construction transmits all forces \\nvia the frame to the foundation to minimize \\nvibrations. The windings are insulated with \\nmica-based tape. When the windings are in \\nplace, the complete stator undergoes vacuum \\npressure impregnation (VPI). The windings are \\nclass F insulated, which gives good thermal \\nmargins.'),\n",
       " Document(metadata={'producer': 'Adobe PDF Library 15.0', 'creator': 'Adobe InDesign CC 14.0 (Macintosh)', 'creationdate': '2018-12-17T10:36:57+02:00', 'moddate': '2018-12-17T10:37:17+02:00', 'trapped': '/False', 'source': '..\\\\data\\\\pdf\\\\21120_ABB_Synchronous_motors.pdf', 'total_pages': 20, 'page': 9, 'page_label': '10', 'source_file': '21120_ABB_Synchronous_motors.pdf', 'file_type': 'pdf'}, page_content='—\\nEffective cooling\\nThe wide range of available cooling methods ensures that you  \\ncan select the optimum system to match the motor’s operating  \\nand environmental conditions.\\nThe three most commonly used cooling methods \\nare air-to-water, air-to-air and open air. Whichever \\nmethod is chosen, it will provide effective cooling \\nof the complete motor.\\nAir-to-water closed circuit cooling\\nThe cooling air circulates in a closed circuit \\nthrough the active parts of the motor and then \\nthrough an air-to-water heat exchanger. This \\nmethod is especially recommended if cooling \\nwater is available nearby. It is an ideal solution for \\nsituations where closed circuit cooling is required \\ndue to installation outdoors or in a hazardous \\narea, or whenever the quality of the surrounding \\nair is not suitable for direct cooling. It is also a \\ngood choice for motors installed in machine \\nrooms with limited ventilation, such as on board \\nships or in pumping stations that are fully \\nenclosed.\\nAir-to-air closed circuit cooling\\nThe cooling air circulates in a closed circuit \\nthrough the active parts of the motor and \\nthrough an air-to-air heat exchanger. This \\nsolution is generally used when a closed circuit \\ncooling system – such as air-to-water cooling – is \\nrequired but water is not readily available. An \\nadditional shaft-mounted or separate electric fan \\nis needed to ensure sufficient air flow through \\nthe cooler.\\nOpen air cooling\\nOpen air cooling can be used where the air in the \\nimmediate environment is relatively clean and \\nthere is adequate air circulation. The cooling air is \\ntypically drawn in through filters, passed through \\nthe active parts of the motor, and then exhausted \\nback to the environment. If the machine room \\nventilation system cannot compensate for the \\ntemperature gradient, the motor air outlet can be \\nducted to exhaust the air outdoors.\\nEnclosure protection classes\\nAvailable protection classes are IP23, IP44, IP54, \\nIP55 or IP66, or NEMA equivalents. Motors can \\nalso be supplied for hazardous areas in \\naccordance with IEC/ATEX or NEC regulations \\n(increased safety or pressurized construction).\\n10\\nSYNCHRONOUS MOTORS HIGH PERFORMANCE IN ALL APPLICATIONS'),\n",
       " Document(metadata={'producer': 'Adobe PDF Library 15.0', 'creator': 'Adobe InDesign CC 14.0 (Macintosh)', 'creationdate': '2018-12-17T10:36:57+02:00', 'moddate': '2018-12-17T10:37:17+02:00', 'trapped': '/False', 'source': '..\\\\data\\\\pdf\\\\21120_ABB_Synchronous_motors.pdf', 'total_pages': 20, 'page': 10, 'page_label': '11', 'source_file': '21120_ABB_Synchronous_motors.pdf', 'file_type': 'pdf'}, page_content='—\\nBearings and accessories\\nHigh quality bearings\\nSelection of the optimal bearing makes a significant difference to reliability.\\nThe choice of optimal bearing arrangement and \\ntype is influenced by a number of factors. These \\ninclude customer requirements and operating \\nconditions like ambient temperature, air \\ncleanliness, vibration levels and possible shocks \\naffecting the bearings. Also radial and axial loads, \\nrotation speed, coupling type and the type of \\ndriven equipment should be taken into account.\\nABB synchronous motors use quality sleeve \\nbearings that withstand high levels of vibration \\nand offer great performance. The bearings \\nprovide the same outstanding reliability under \\nstatic and dynamic (radial and axial) loads. Their \\nexcellent heat transfer capability makes them \\nequally suitable for low and high speed \\napplications.\\nEnd-shield mounted bearings are always used in \\nhigher speed (four and six pole) motors. Pedestal \\nmounted bearings are generally used for the \\nlargest frame sizes of lower speed motors. Motors \\nwith pedestal bearings are as easy to mount and \\nalign as those with end-shield mounted bearings. \\nThe motors are normally delivered ready \\nassembled and require no further assembly on \\nsite. Separate pedestal bearing motors are often \\nmounted on a common base frame.\\nSleeve bearings last as long as the expected \\nlifetime of the motor, provided that the operating \\nconditions and maintenance intervals are as \\nspecified. The bearing housing is designed to \\npermit easy access for inspection and \\nmaintenance. The bearings are insulated from the \\nmotor frame to eliminate circulating currents in \\nthe shaft, and the shaft can be earthed. The \\nbearings are sealed against oil leakage with \\nlabyrinth seals. Sleeve bearings are designed to \\nbe insensitive to misalignment and to permit \\nlarge axial play.\\nLubrication\\nIn some cases the bearings are self-lubricated by \\nmeans of an oil ring, which picks up the \\nlubricating oil and transfers it directly to the \\nshaft, forming an independent and highly reliable \\nlubrication system.\\nIn applications involving large loads, high speeds, \\nhigh ambient temperature or where the motor is \\nmounted in an inclined position, an external oil \\ncooling and circulation system may be necessary, \\nunless the oil is supplied directly from the \\nlubrication system of the driven equipment. In \\ncertain applications which run at slow speeds, a \\njack-up system may be required  for starting and \\nslow turning.\\nHydrostatic jacking oil systems are available for \\nlow-speed applications and, in specific \\nsituations, for use during motor start-up and shut \\ndown.\\nAccessories\\nWe offer a broad selection of accessories, \\nincluding devices and equipment for measuring, \\nprotection, termination, lubrication and \\nmounting of the motor. Typical examples are PT-\\n100 sensors, earth fault protection relays, surge \\narrestors, current transformers, rotor \\ntelemetrics, sole plates and anchor bolts.\\nA separate main terminal box is mounted on the \\nside of the motor, featuring bus bars outside the \\nmotor frame and allowing connections from any \\ndirection.\\n11'),\n",
       " Document(metadata={'producer': 'Adobe PDF Library 15.0', 'creator': 'Adobe InDesign CC 14.0 (Macintosh)', 'creationdate': '2018-12-17T10:36:57+02:00', 'moddate': '2018-12-17T10:37:17+02:00', 'trapped': '/False', 'source': '..\\\\data\\\\pdf\\\\21120_ABB_Synchronous_motors.pdf', 'total_pages': 20, 'page': 11, 'page_label': '12', 'source_file': '21120_ABB_Synchronous_motors.pdf', 'file_type': 'pdf'}, page_content='12\\nSYNCHRONOUS MOTORS HIGH PERFORMANCE IN ALL APPLICATIONS\\n—\\nRobust frame\\nLow vibration\\nRobust frame ensures great stability and optimum dynamic behavior.\\nFor maximum flexibility, ABB synchronous motors \\nare designed for horizontal, inclined or vertical \\nmounting. Vertical mounting is available for \\nmotors with eight or more poles.\\nThe robust frame transfers dynamic and static \\nstresses directly to the foundation, reducing \\nvibration and contributing to the overall excellent \\nperformance of the motor.\\nWe can supply motors – even up to the largest \\nsizes and outputs – as complete, ready-to-install \\nunits. This means that no further on-site \\nassembly is needed, which substantially reduces \\ninstallation times and cuts the risk that \\nsomething could go wrong during installation.\\nOur R&D team works closely with manufacturers \\nof driven equipment, using finite element method \\n(FEM) and dynamic animation techniques, to \\nanalyze vibration models, test critical parts and \\nverify that harmful mechanical resonances will \\nnot occur in the motor.\\nCorrosion protection\\nOur motors are designed and built to withstand \\nthe relevant environmental conditions. All \\nsurfaces made of steel, aluminum alloy or cast \\niron are treated in accordance with the chosen \\npaint system. Selection of a suitable paint system \\ngives reliable anti-corrosion protection even \\nunder the most severe environmental conditions. \\nFor moderate indoor conditions the standard \\nfinish is moisture-proof in accordance with the \\nrelevant standards.'),\n",
       " Document(metadata={'producer': 'Adobe PDF Library 15.0', 'creator': 'Adobe InDesign CC 14.0 (Macintosh)', 'creationdate': '2018-12-17T10:36:57+02:00', 'moddate': '2018-12-17T10:37:17+02:00', 'trapped': '/False', 'source': '..\\\\data\\\\pdf\\\\21120_ABB_Synchronous_motors.pdf', 'total_pages': 20, 'page': 12, 'page_label': '13', 'source_file': '21120_ABB_Synchronous_motors.pdf', 'file_type': 'pdf'}, page_content='13\\n—\\nExcitation\\nThe right excitation method  \\nfor every application\\nWe ensure that the excitation system matches the outstanding reliability \\nof our motors.\\nFor fixed speed applications and variable speed \\napplications with less demanding dynamic \\ncontrol requirements, a brushless exciter and \\nautomatic voltage regulator are typical options. \\nFor AMS motors, PLC-based regulator is typically \\nused. The brushless system has no wearing parts, \\nand the external excitation power requirement is \\nlow. \\nThe advanced and yet straightforward design has \\na low component count and effective protection \\nfunctions, offering high reliability and easy \\naccess for maintenance.\\nFor variable speed applications where very fast \\nand accurate speed or torque control are \\nrequired, the motor is typically equipped with \\nbrushes and a slip-ring unit to allow excitation \\nand control of the motor from the frequency \\nconverter.\\nHigher speed motors (four and six poles) use a \\ncompact, brushless exciter unit mounted on the \\nrotor shaft outboard of the bearings. No \\nindependent support or alignment is required. \\nThe high level of field forcing delivers improved \\nsystem performance, which increases the \\nproduction of reactive power and is beneficial \\nwhen faults arise in the supply network.\\nLower speed motors (eight or more poles) \\ntypically have a brushless exciter unit mounted \\ninside the motor enclosure.\\nExcitation control\\nThe motor excitation control panel is supplied in a \\nvariety of basic formats. It houses the excitation \\nequipment, protection system and logic \\nfunctions for starting. We offer a wide range of \\ninstrumentation and control equipment to \\nprotect synchronous motors and ensure excellent \\nreliability, availability and extended product \\nlifetime.'),\n",
       " Document(metadata={'producer': 'Adobe PDF Library 15.0', 'creator': 'Adobe InDesign CC 14.0 (Macintosh)', 'creationdate': '2018-12-17T10:36:57+02:00', 'moddate': '2018-12-17T10:37:17+02:00', 'trapped': '/False', 'source': '..\\\\data\\\\pdf\\\\21120_ABB_Synchronous_motors.pdf', 'total_pages': 20, 'page': 13, 'page_label': '14', 'source_file': '21120_ABB_Synchronous_motors.pdf', 'file_type': 'pdf'}, page_content='14\\nSYNCHRONOUS MOTORS HIGH PERFORMANCE IN ALL APPLICATIONS\\n—\\nProven insulation system\\nHigh reliability, long lifetime\\nInsulation is crucial for overall reliability.\\nABB has used the Micadur® Compact Industry \\n(MCI) insulation system for several decades, and \\nit has gone into tens of thousands of large \\nmotors and generators. Over this time, there have \\nbeen no known primary insulation failures due to \\nthermal aging. Thermal lifetime tests confirm \\nthat the endurance of the MCI system \\ncomfortably exceeds the requirements of \\nInternational Electrotechnical Commission (IEC) \\nand Institute of Electrical and Electronics \\nEngineers (IEEE) standards.\\nThe MCI insulation system is based on vacuum \\npressure impregnation (VPI) of mica materials. A \\nspecially formulated epoxy resin is used to \\nproduce a sealed and homogenous insulation \\nsystem with good performance in terms of \\ndielectric strength, heat transfer and elimination \\nof partial discharge - factors that promote great \\nreliability. Testing of the insulation system \\nincludes close monitoring of the impregnation \\nprocess, curing times and pressure levels.\\nThe systematic VPI process is highly effective. \\nAfter VPI is completed, stators and rotors are \\ncured in an oven at high temperature, producing \\nvery strong and stable insulation with high \\nmechanical and electrical strength. This is \\nespecially important in order to resist inadvertent \\nhigh stresses from out-of-phase synchronization, \\ntransients and short circuits.\\nEven the largest wound stators are impregnated \\nas complete units, ensuring that both the \\ninsulation and the mechanical properties of the \\nwindings are excellent. This means that they can \\nwithstand vibrations induced by the driven \\nequipment and the mechanical stresses caused \\nby transients such as short circuits.\\nMedium and high voltage windings up to 15,000 V \\nare made of form wound rectangular copper wire \\ninsulated with multiple layers of glass-fiber \\nreinforced mica-tape. All the materials used, \\nincluding the VPI resin, exceed the requirements \\nof thermal class F.'),\n",
       " Document(metadata={'producer': 'Adobe PDF Library 15.0', 'creator': 'Adobe InDesign CC 14.0 (Macintosh)', 'creationdate': '2018-12-17T10:36:57+02:00', 'moddate': '2018-12-17T10:37:17+02:00', 'trapped': '/False', 'source': '..\\\\data\\\\pdf\\\\21120_ABB_Synchronous_motors.pdf', 'total_pages': 20, 'page': 14, 'page_label': '15', 'source_file': '21120_ABB_Synchronous_motors.pdf', 'file_type': 'pdf'}, page_content='15\\n—\\nTesting\\nThree levels of testing\\nEach motor is thoroughly tested before it leaves the factory.\\nDuring manufacturing, our motors typically pass \\nthrough more than 50 separate quality control \\npoints comprising hundreds of individual \\ninspections. In addition, components and \\nassemblies constantly undergo quality \\nmonitoring, inspections, reliability evaluations \\nand other tests as they progress through the \\nmanufacturing process.\\nFactory Acceptance Testing (FAT) is the final, \\ncomprehensive set of tests that every motor \\nmust pass before it leaves the plant. FAT verifies \\nthat the motor meets the customer’s \\nspecifications and application requirements. The \\nresults are compiled in a report that is supplied \\ntogether with the motor. Customers can attend \\nthe tests in person. For tests at the Helsinki \\nfactory we also offer the option of attending the \\ntests via our online FAT system.\\n \\nOur test field is fully equipped to perform three \\nseparate levels of testing, and we can also run \\ncombined tests with the customer’s own variable \\nspeed drive (VSD) and transformer.\\nThe insulation system is tested at full-voltage \\nlevels. Unless otherwise specified, testing is \\nperformed according to the IEC 60034 standard. \\nTesting according to classification society \\nrequirements can also be done.\\n—\\nThree levels of testing\\n1. Routine tests\\n• performed on all motors\\n3. Special tests\\n• may be conducted to verify performance in special conditions, eg, to verify compliance with \\ncustomer specifications regarding noise or vibration\\n• could also be done with regard to hazardous area or marine classification society requirements\\n2. Type tests\\n• done in addition to routine tests\\n• normally performed on one motor in a series that has not been previously manufactured\\n• can also be undertaken at the customer’s request'),\n",
       " Document(metadata={'producer': 'Adobe PDF Library 15.0', 'creator': 'Adobe InDesign CC 14.0 (Macintosh)', 'creationdate': '2018-12-17T10:36:57+02:00', 'moddate': '2018-12-17T10:37:17+02:00', 'trapped': '/False', 'source': '..\\\\data\\\\pdf\\\\21120_ABB_Synchronous_motors.pdf', 'total_pages': 20, 'page': 15, 'page_label': '16', 'source_file': '21120_ABB_Synchronous_motors.pdf', 'file_type': 'pdf'}, page_content='16\\nSYNCHRONOUS MOTORS HIGH PERFORMANCE IN ALL APPLICATIONS\\n—\\nLife cycle services and support\\nFrom pre-purchase to migration and upgrades\\nABB offers a complete portfolio of services to ensure trouble-free operation and long \\nproduct lifetimes. These services cover the entire life cycle. Local support is provided \\nthrough a global network of ABB service centers and certified partners.\\nPre-purchase\\nABB’s front-end sales organization can help \\ncustomers to quickly and efficiently select, \\nconfigure and optimize the right motor for \\ntheir application.\\nInstallation and commissioning\\nProfessional installation and commissioning by \\nABB’s certified engineers represent an investment \\nin availability and reliability over the entire life cycle. \\nEngineering and consulting \\nABB’s experts provide energy efficiency and \\nreliability appraisals, advanced condition and \\nperformance assessments and technical studies. \\nCondition Monitoring and Diagnosis\\nABB’s unique services deliver early warnings \\nof developing problems before failures occur. \\nThe required data can be collected by an engineer \\nduring a site visit or by means of remote monitoring \\nsolutions. Integration into the ABB Ability™ platform means \\nthe data can be transmitted to the cloud and accessed and \\nanalyzed remotely, allowing even greater insight into the \\nhealth of the equipment. The services focus on critical areas \\nlike the bearings, rotor winding, stator winding insulation \\nand overall mechanical condition.\\nMaintenance and field services\\nABB offers life cycle management plans and \\npreventive maintenance products. \\nThe recommended four-level maintenance \\nprogram covers the entire product lifetime.\\nSpare parts\\nSpare parts and support are offered throughout \\nthe life cycle of ABB products. In addition to \\nindividual spares, tailored spare part packages \\nare also available.\\nRepair and refurbishment\\nSupport for all ABB motors and other \\nbrands is provided by ABB’s global service \\norganization. Specialist teams can also deliver \\nemergency support. \\nMigration and upgrades\\nLife cycle audits determine the optimum \\nupgrades and migration paths. Upgrades \\nrange from individual components to direct \\nreplacement motors. \\nTraining\\nProduct and service training courses take a \\npractical approach. The training ranges from \\nstandard courses to specially tailored programs \\nto suit customer requirements. \\nSpecialized support \\nSpecialized support is offered through ABB’s \\nglobal service organization. Local units provide \\nmajor and minor repairs as well as overhauls \\nand reconditioning.\\nService contracts\\nService contracts are tailored to the customer’s \\nneeds. The contracts combine ABB’s entire service \\nportfolio and 130 years of experience to deploy \\nthe optimal service practices.'),\n",
       " Document(metadata={'producer': 'Adobe PDF Library 15.0', 'creator': 'Adobe InDesign CC 14.0 (Macintosh)', 'creationdate': '2018-12-17T10:36:57+02:00', 'moddate': '2018-12-17T10:37:17+02:00', 'trapped': '/False', 'source': '..\\\\data\\\\pdf\\\\21120_ABB_Synchronous_motors.pdf', 'total_pages': 20, 'page': 16, 'page_label': '17', 'source_file': '21120_ABB_Synchronous_motors.pdf', 'file_type': 'pdf'}, page_content='17\\nIEC motors\\n• Low voltage motors\\n• High voltage induction and synchronous  \\nmotors\\n• Marine motors\\n• Motors for explosive atmospheres\\n• Motors for food and beverage\\n• Motors for variable speed drives\\n• Permanent magnet motors\\n• Synchronous reluctance motors\\n• Traction motors\\nNEMA motors\\n• Low voltage motors\\n• High voltage induction and synchronous  \\nmotors\\n• Marine motors\\n• Motors for explosive atmospheres\\n• Motors for variable speed drives\\n• Permanent magnet motors\\n• Servomotors\\n• Washdown motors\\nGenerators\\n• Generators for wind turbines\\n• Generators for diesel and gas engine power \\nplants\\n• Generators for steam and gas turbine power \\nplants\\n• Generators for marine applications\\n• Generators for industrial applications\\n• Generators for traction applications\\n• Synchronous condensers for reactive power \\ncompensation\\nMechanical power transmission components, \\nbearings, gearings\\n• Mounted bearings\\n• Enclosed gearing\\n• Mechanical drive components\\n• Couplings\\n• Sheaves and bushings\\n• Conveyor components\\n• Geared motor units\\nLife cycle services\\n—\\nTotal product offering\\nABB offers a wide range of motors, generators and mechanical power \\ntransmission products with a complete portfolio of services.'),\n",
       " Document(metadata={'producer': 'Adobe PDF Library 15.0', 'creator': 'Adobe InDesign CC 14.0 (Macintosh)', 'creationdate': '2018-12-17T10:36:57+02:00', 'moddate': '2018-12-17T10:37:17+02:00', 'trapped': '/False', 'source': '..\\\\data\\\\pdf\\\\21120_ABB_Synchronous_motors.pdf', 'total_pages': 20, 'page': 17, 'page_label': '18', 'source_file': '21120_ABB_Synchronous_motors.pdf', 'file_type': 'pdf'}, page_content='18\\nSYNCHRONOUS MOTORS HIGH PERFORMANCE IN ALL APPLICATIONS\\n—\\nNotes'),\n",
       " Document(metadata={'producer': 'Adobe PDF Library 15.0', 'creator': 'Adobe InDesign CC 14.0 (Macintosh)', 'creationdate': '2018-12-17T10:36:57+02:00', 'moddate': '2018-12-17T10:37:17+02:00', 'trapped': '/False', 'source': '..\\\\data\\\\pdf\\\\21120_ABB_Synchronous_motors.pdf', 'total_pages': 20, 'page': 18, 'page_label': '19', 'source_file': '21120_ABB_Synchronous_motors.pdf', 'file_type': 'pdf'}, page_content=''),\n",
       " Document(metadata={'producer': 'Adobe PDF Library 15.0', 'creator': 'Adobe InDesign CC 14.0 (Macintosh)', 'creationdate': '2018-12-17T10:36:57+02:00', 'moddate': '2018-12-17T10:37:17+02:00', 'trapped': '/False', 'source': '..\\\\data\\\\pdf\\\\21120_ABB_Synchronous_motors.pdf', 'total_pages': 20, 'page': 19, 'page_label': 'U2', 'source_file': '21120_ABB_Synchronous_motors.pdf', 'file_type': 'pdf'}, page_content='9AKK105576 EN 12-2018\\n© Copyright 2018 ABB. All rights reserved. \\nSpecifications subject to change without notice.\\n—\\nFor more information and contact details: \\nabb.com/motors&generators')]"
      ]
     },
     "execution_count": 3,
     "metadata": {},
     "output_type": "execute_result"
    }
   ],
   "source": [
    "all_pdf_documents"
   ]
  },
  {
   "cell_type": "code",
   "execution_count": null,
   "id": "fab6b6cc",
   "metadata": {},
   "outputs": [],
   "source": [
    "### Text splitting get into chunks\n",
    "\n",
    "def split_documents(documents,chunk_size=1000,chunk_overlap=200):\n",
    "    \"\"\"Split documents into smaller chunks for better RAG performance\"\"\"\n",
    "    text_splitter = RecursiveCharacterTextSplitter(\n",
    "        chunk_size=chunk_size,\n",
    "        chunk_overlap=chunk_overlap,\n",
    "        length_function=len,\n",
    "        separators=[\"\\n\\n\", \"\\n\", \" \", \"\"]\n",
    "    )\n",
    "    split_docs = text_splitter.split_documents(documents)\n",
    "    print(f\"Split {len(documents)} documents into {len(split_docs)} chunks\")\n",
    "    \n",
    "    # Show example of a chunk\n",
    "    if split_docs:\n",
    "        print(f\"\\nExample chunk:\")\n",
    "        print(f\"Content: {split_docs[0].page_content[:200]}...\")\n",
    "        print(f\"Metadata: {split_docs[0].metadata}\")\n",
    "    \n",
    "    return split_docs\n"
   ]
  },
  {
   "cell_type": "code",
   "execution_count": null,
   "id": "c7b75a72",
   "metadata": {},
   "outputs": [
    {
     "name": "stdout",
     "output_type": "stream",
     "text": [
      "Split 20 documents into 40 chunks\n",
      "\n",
      "Example chunk:\n",
      "Content: — \n",
      "Synchronous motors\n",
      "High performance in all applications\n",
      "—\n",
      "BROCHURE  \n",
      "Synchronous motors\n",
      "High performance in all applications\n",
      "ABB synchronous motors help  \n",
      "our customers to cut operating, \n",
      "maintenan...\n",
      "Metadata: {'producer': 'Adobe PDF Library 15.0', 'creator': 'Adobe InDesign CC 14.0 (Macintosh)', 'creationdate': '2018-12-17T10:36:57+02:00', 'moddate': '2018-12-17T10:37:17+02:00', 'trapped': '/False', 'source': '..\\\\data\\\\pdf\\\\21120_ABB_Synchronous_motors.pdf', 'total_pages': 20, 'page': 0, 'page_label': 'U1', 'source_file': '21120_ABB_Synchronous_motors.pdf', 'file_type': 'pdf'}\n"
     ]
    },
    {
     "data": {
      "text/plain": [
       "[Document(metadata={'producer': 'Adobe PDF Library 15.0', 'creator': 'Adobe InDesign CC 14.0 (Macintosh)', 'creationdate': '2018-12-17T10:36:57+02:00', 'moddate': '2018-12-17T10:37:17+02:00', 'trapped': '/False', 'source': '..\\\\data\\\\pdf\\\\21120_ABB_Synchronous_motors.pdf', 'total_pages': 20, 'page': 0, 'page_label': 'U1', 'source_file': '21120_ABB_Synchronous_motors.pdf', 'file_type': 'pdf'}, page_content='— \\nSynchronous motors\\nHigh performance in all applications\\n—\\nBROCHURE  \\nSynchronous motors\\nHigh performance in all applications\\nABB synchronous motors help  \\nour customers to cut operating, \\nmaintenance and energy costs while \\nlowering environmental impact.'),\n",
       " Document(metadata={'producer': 'Adobe PDF Library 15.0', 'creator': 'Adobe InDesign CC 14.0 (Macintosh)', 'creationdate': '2018-12-17T10:36:57+02:00', 'moddate': '2018-12-17T10:37:17+02:00', 'trapped': '/False', 'source': '..\\\\data\\\\pdf\\\\21120_ABB_Synchronous_motors.pdf', 'total_pages': 20, 'page': 1, 'page_label': '2', 'source_file': '21120_ABB_Synchronous_motors.pdf', 'file_type': 'pdf'}, page_content='— \\nWe provide motors and \\ngenerators, services and \\nexpertise to save energy  \\nand improve customers’ \\nprocesses over the total life \\ncycle of our products, and \\nbeyond.'),\n",
       " Document(metadata={'producer': 'Adobe PDF Library 15.0', 'creator': 'Adobe InDesign CC 14.0 (Macintosh)', 'creationdate': '2018-12-17T10:36:57+02:00', 'moddate': '2018-12-17T10:37:17+02:00', 'trapped': '/False', 'source': '..\\\\data\\\\pdf\\\\21120_ABB_Synchronous_motors.pdf', 'total_pages': 20, 'page': 2, 'page_label': '3', 'source_file': '21120_ABB_Synchronous_motors.pdf', 'file_type': 'pdf'}, page_content='— \\nTable of contents\\n004  Synchronous motors  \\nfrom the world’s leading \\nsupplier \\n005  Efficiency and reliability  \\nfor a wide range of applications \\n006  Fixed and variable speed motors \\n008  Proven reliability\\n010  Effective cooling \\n011  Bearings and accessories\\n012  Robust frame\\n013  Excitation\\n014  Proven insulation system\\n015  Testing\\n016  Life cycle services and support\\n017 Total product offering'),\n",
       " Document(metadata={'producer': 'Adobe PDF Library 15.0', 'creator': 'Adobe InDesign CC 14.0 (Macintosh)', 'creationdate': '2018-12-17T10:36:57+02:00', 'moddate': '2018-12-17T10:37:17+02:00', 'trapped': '/False', 'source': '..\\\\data\\\\pdf\\\\21120_ABB_Synchronous_motors.pdf', 'total_pages': 20, 'page': 3, 'page_label': '4', 'source_file': '21120_ABB_Synchronous_motors.pdf', 'file_type': 'pdf'}, page_content='4\\nSYNCHRONOUS MOTORS HIGH PERFORMANCE IN ALL APPLICATIONS\\n—\\nSynchronous motors  \\nfrom the world’s leading supplier\\nHigh performance in all applications\\nDesigned to provide outstanding reliability and efficiency,  \\nABB synchronous motors help our customers to cut operating, \\nmaintenance and energy costs while lowering environmental impact.\\nABB is the market’s leading supplier of \\nsynchronous motors and generators. All over the \\nworld our synchronous motors are delivering \\nsuperior performance in industrial processes, the \\nmarine and offshore industries, utilities, and \\nspecialized applications.\\nWe have been designing and manufacturing AC \\nmotors for mission-critical applications for more \\nthan 130 years, and our experience and \\napplication knowledge have made us the \\npreferred supplier in many different industries.\\nABB synchronous motors are based on modular \\nand standardized platforms. Working together \\nwith customers, we use our know-how of'),\n",
       " Document(metadata={'producer': 'Adobe PDF Library 15.0', 'creator': 'Adobe InDesign CC 14.0 (Macintosh)', 'creationdate': '2018-12-17T10:36:57+02:00', 'moddate': '2018-12-17T10:37:17+02:00', 'trapped': '/False', 'source': '..\\\\data\\\\pdf\\\\21120_ABB_Synchronous_motors.pdf', 'total_pages': 20, 'page': 3, 'page_label': '4', 'source_file': '21120_ABB_Synchronous_motors.pdf', 'file_type': 'pdf'}, page_content='preferred supplier in many different industries.\\nABB synchronous motors are based on modular \\nand standardized platforms. Working together \\nwith customers, we use our know-how of \\ndifferent applications to tailor cost-effective \\nsolutions. The flexible design concept enables us \\nto adapt motors for almost every kind of \\napplication.\\nWe offer predefined maintenance programs for \\nall lifetime phases of all ABB motors, and \\npreventive diagnosis and updates can help to \\nfurther boost your competitiveness when \\nneeded.\\nThe global ABB network ensures local service \\ndelivery whenever and wherever you need it. \\nAround the world we have over 60 service centers \\nand more than 150 authorized service providers \\nready to support you.'),\n",
       " Document(metadata={'producer': 'Adobe PDF Library 15.0', 'creator': 'Adobe InDesign CC 14.0 (Macintosh)', 'creationdate': '2018-12-17T10:36:57+02:00', 'moddate': '2018-12-17T10:37:17+02:00', 'trapped': '/False', 'source': '..\\\\data\\\\pdf\\\\21120_ABB_Synchronous_motors.pdf', 'total_pages': 20, 'page': 4, 'page_label': '5', 'source_file': '21120_ABB_Synchronous_motors.pdf', 'file_type': 'pdf'}, page_content='5\\n—\\nEfficiency and reliability  \\nfor a wide range of applications\\nMotors that match your needs\\nABB synchronous motors deliver efficient and reliable operation  \\nin a wide range of applications. We have a strong track record in tailoring \\nmotors to match customer needs across different industries.\\nExamples of industries and applications where our motors are operating include:\\n• Oil, gas and petrochemical: compressors, pumps, fans and extruders\\n• Marine and offshore: variable speed motors in azimuthing propulsors and shaft line applications\\n• Metals and minerals: rolling mills, hoists, processing lines, semi-autogenous grinding (SAG) mills, ball \\nmills and blowers\\n• Power utilities: pumps, fans and condensers\\n• Pulp and paper: chippers, refiners and grinders\\n• Water and wastewater: pumps\\n• Air separation: compressors\\n• Specialized applications: wind tunnel motors and motor-generator sets\\n—\\nWater and wastewater\\n—\\nAir separation\\n—\\nCement\\n—\\nOil, gas and petrochemical \\n—\\nMarine\\n—'),\n",
       " Document(metadata={'producer': 'Adobe PDF Library 15.0', 'creator': 'Adobe InDesign CC 14.0 (Macintosh)', 'creationdate': '2018-12-17T10:36:57+02:00', 'moddate': '2018-12-17T10:37:17+02:00', 'trapped': '/False', 'source': '..\\\\data\\\\pdf\\\\21120_ABB_Synchronous_motors.pdf', 'total_pages': 20, 'page': 4, 'page_label': '5', 'source_file': '21120_ABB_Synchronous_motors.pdf', 'file_type': 'pdf'}, page_content='• Air separation: compressors\\n• Specialized applications: wind tunnel motors and motor-generator sets\\n—\\nWater and wastewater\\n—\\nAir separation\\n—\\nCement\\n—\\nOil, gas and petrochemical \\n—\\nMarine\\n—\\nMetals and minerals\\n—\\nMining\\n—\\nPower generation\\n—\\nPulp and paper'),\n",
       " Document(metadata={'producer': 'Adobe PDF Library 15.0', 'creator': 'Adobe InDesign CC 14.0 (Macintosh)', 'creationdate': '2018-12-17T10:36:57+02:00', 'moddate': '2018-12-17T10:37:17+02:00', 'trapped': '/False', 'source': '..\\\\data\\\\pdf\\\\21120_ABB_Synchronous_motors.pdf', 'total_pages': 20, 'page': 5, 'page_label': '6', 'source_file': '21120_ABB_Synchronous_motors.pdf', 'file_type': 'pdf'}, page_content=\"6\\nSYNCHRONOUS MOTORS HIGH PERFORMANCE IN ALL APPLICATIONS\\n—\\nFixed and variable speed motors\\nTailored to application requirements\\nABB motor designs are always optimized for the specific application, ensuring  \\nthe correct starting method is used. The starting method is selected primarily on  \\nthe basis of customer requirements, network capability and process demands.\\nFixed speed motors\\nFixed speed synchronous motors are typically \\nused in applications like compressors, fans, \\npumps, wood grinders and refiners.\\nThe most commonly used starting methods for \\nfixed speed synchronous motors are direct-on-\\nline (DOL), reactor, autotransformer, load \\ncommutated inverter (LCI, 'soft starter'), \\ncapacitor and reactor capacitor.\\nVariable speed motors\\nVariable speed synchronous motors are often \\nused in demanding applications in process \\nindustries and in applications where variable \\nspeed delivers clear benefits. Rolling mills, mine \\nhoists, pumps and compressors are typical\"),\n",
       " Document(metadata={'producer': 'Adobe PDF Library 15.0', 'creator': 'Adobe InDesign CC 14.0 (Macintosh)', 'creationdate': '2018-12-17T10:36:57+02:00', 'moddate': '2018-12-17T10:37:17+02:00', 'trapped': '/False', 'source': '..\\\\data\\\\pdf\\\\21120_ABB_Synchronous_motors.pdf', 'total_pages': 20, 'page': 5, 'page_label': '6', 'source_file': '21120_ABB_Synchronous_motors.pdf', 'file_type': 'pdf'}, page_content='used in demanding applications in process \\nindustries and in applications where variable \\nspeed delivers clear benefits. Rolling mills, mine \\nhoists, pumps and compressors are typical \\nexamples of variable speed applications. \\nSynchronous motors with variable speed drives \\n(VSDs) are also commonly used in the main \\npropulsion system in ships. Optimized electrical \\ndrive systems with variable speed motors can \\nalso provide considerable energy savings in \\napplications like extruders, compressors and \\npumps.\\nWe supply motors and drives that meet torque \\nrequirements over the entire operating range, \\nfrom zero to maximum process speed. This \\nensures smooth starting, acceleration and \\noperation. We offer optimized ABB motor-drive \\npackages for the best possible variable speed \\nsolution. These consist of an ABB synchronous \\nmotor combined with an ABB load commutated \\ninverter or ABB voltage source inverter.\\nWe use our engineering and application know-'),\n",
       " Document(metadata={'producer': 'Adobe PDF Library 15.0', 'creator': 'Adobe InDesign CC 14.0 (Macintosh)', 'creationdate': '2018-12-17T10:36:57+02:00', 'moddate': '2018-12-17T10:37:17+02:00', 'trapped': '/False', 'source': '..\\\\data\\\\pdf\\\\21120_ABB_Synchronous_motors.pdf', 'total_pages': 20, 'page': 5, 'page_label': '6', 'source_file': '21120_ABB_Synchronous_motors.pdf', 'file_type': 'pdf'}, page_content='solution. These consist of an ABB synchronous \\nmotor combined with an ABB load commutated \\ninverter or ABB voltage source inverter.\\nWe use our engineering and application know-\\nhow to ensure that all the components in \\nelectrical drive packages, particularly the \\nconverter-motor interface, are optimally \\nintegrated to match the process. Benefits include \\nspecial converter-fed motor designs, increased \\nefficiency and improved torque production \\ncapabilities.\\nABB motor designs are always optimized for the \\ntype of converter that is most suitable for the \\napplication. Our motors can be combined with all \\ncommon converter types: load commutated \\ninverter (LCI), cycloconverter (C) and voltage \\nsource inverter (VSI).'),\n",
       " Document(metadata={'producer': 'Adobe PDF Library 15.0', 'creator': 'Adobe InDesign CC 14.0 (Macintosh)', 'creationdate': '2018-12-17T10:36:57+02:00', 'moddate': '2018-12-17T10:37:17+02:00', 'trapped': '/False', 'source': '..\\\\data\\\\pdf\\\\21120_ABB_Synchronous_motors.pdf', 'total_pages': 20, 'page': 6, 'page_label': '7', 'source_file': '21120_ABB_Synchronous_motors.pdf', 'file_type': 'pdf'}, page_content='7\\n—\\nOutput ranges of ABB synchronous motors (from 1 to 75 MW, 1 to 15 kV).\\nFixed spe ed motors\\n70\\n60\\n50\\n40\\n30\\n20\\n10\\n0\\n100 200 300 400 500 600 700 800 900 1000 1100 1200 1300 1400 1500 1600 1700 1800 1900 2000\\nSpeed (rpm)\\nOutput (MW)\\nAMZ 2500\\nAMZ 2000\\nAMZ 1600\\nAMZ 1250\\nAMZ 1120\\nAMZ 0900\\nAMZ 0710\\nAMS 1250\\nAMS 1120\\nAMS 1000\\nAMS 900\\nAMS 800\\nAMS 710\\n80\\nAMS 1400\\nVariable sp eed motors\\n50\\n40\\n30\\n20\\n10\\n0\\n100 200 300 400 500 600 700 800 900 1000 1100 1200 1300 1400 1500 1600 1700 1800 1900 2000\\nSpeed (rpm)\\nOutput (MW)\\n80\\n70\\n60\\nAMZ 2500\\nAMZ 2000\\nAMZ 1600\\nAMZ 1250\\nAMZ 1120\\nAMZ 0900\\nAMZ 0710\\nAMS 1250\\nAMS 1120\\nAMS 1000\\nAMS 900\\nAMS 800\\nAMS 710\\nAMS 1400\\n50\\n40\\n30\\n20\\n10\\n0\\n100 200 300 400 500 600 700 800 900 1000 1100 1200 1300 1400 1500 1600 1700 1800 1900 2000\\nSpeed (rpm)\\nOutput (MW)\\n80\\n70\\n60'),\n",
       " Document(metadata={'producer': 'Adobe PDF Library 15.0', 'creator': 'Adobe InDesign CC 14.0 (Macintosh)', 'creationdate': '2018-12-17T10:36:57+02:00', 'moddate': '2018-12-17T10:37:17+02:00', 'trapped': '/False', 'source': '..\\\\data\\\\pdf\\\\21120_ABB_Synchronous_motors.pdf', 'total_pages': 20, 'page': 7, 'page_label': '8', 'source_file': '21120_ABB_Synchronous_motors.pdf', 'file_type': 'pdf'}, page_content='8\\nSYNCHRONOUS MOTORS HIGH PERFORMANCE IN ALL APPLICATIONS\\n—\\nProven reliability\\nIncreased productivity for your operations\\nABB synchronous motors are renowned for their proven quality and reliability.  \\nRobust design ensures reliability through cool operating temperatures and  \\nlow vibration.\\nRotor\\nThe rotor plays a crucial part in achieving the best \\npossible electrical and mechanical performance.\\nHigher speed motors (four and six poles) have \\nsolid rotors with integrated poles made from a \\none-piece steel forging. A solid pole plate is \\nattached to the pole, a design that has good \\noverload capability and low harmonics. At the \\nsame time this rotor configuration contributes to \\nexcellent starting characteristics, high starting \\ntorque and low starting current.\\nThe large cooling surfaces and effective flow of \\ncooling air keep the rotor temperature low and \\nuniform, helping to ensure reliability and a long \\noperating life.\\nThe coils are class H insulated for extra thermal'),\n",
       " Document(metadata={'producer': 'Adobe PDF Library 15.0', 'creator': 'Adobe InDesign CC 14.0 (Macintosh)', 'creationdate': '2018-12-17T10:36:57+02:00', 'moddate': '2018-12-17T10:37:17+02:00', 'trapped': '/False', 'source': '..\\\\data\\\\pdf\\\\21120_ABB_Synchronous_motors.pdf', 'total_pages': 20, 'page': 7, 'page_label': '8', 'source_file': '21120_ABB_Synchronous_motors.pdf', 'file_type': 'pdf'}, page_content='cooling air keep the rotor temperature low and \\nuniform, helping to ensure reliability and a long \\noperating life.\\nThe coils are class H insulated for extra thermal \\nmargins. The rigid rotor construction and \\nminimum distance between bearings ensure that \\nthe motor operates below the first critical speed, \\nkeeping vibration levels low.\\nLower speed motors (eight or more poles) \\ntypically have rotors with the poles manufactured \\nfrom 2 mm laminated steel sheet. The sheets are \\npressed together with inserted steel bars which \\nare welded to the end plates.\\nFor lower speed motors the technically preferred \\noption is to vacuum pressure impregnate (VPI) \\nthe rotor assembly after it is wound to achieve \\nexcellent insulation and mechanical strength. \\nAfter impregnation, the complete rotor assembly \\nis dynamically checked for balance.\\nPermanent magnet poles are used in certain \\nvariable speed applications. Permanent magnet \\nrotors are straightforward constructions and do'),\n",
       " Document(metadata={'producer': 'Adobe PDF Library 15.0', 'creator': 'Adobe InDesign CC 14.0 (Macintosh)', 'creationdate': '2018-12-17T10:36:57+02:00', 'moddate': '2018-12-17T10:37:17+02:00', 'trapped': '/False', 'source': '..\\\\data\\\\pdf\\\\21120_ABB_Synchronous_motors.pdf', 'total_pages': 20, 'page': 8, 'page_label': '9', 'source_file': '21120_ABB_Synchronous_motors.pdf', 'file_type': 'pdf'}, page_content='9\\nnot need an excitation system. When necessary, \\nhigh pole numbers can be used in low speed \\napplications.\\nShaft\\nThe shaft is manufactured from forged or rolled \\nsteel and machined to exact specifications. The \\nshaft ends can be cylindrical, conical or flanged. Also \\ntwo shaft ends can be provided (double end drive).\\nRotor windings\\nThe rotor windings consist of either preformed \\nenameled rectangular copper wire or flat copper. \\nProper supports between adjacent windings \\nensure stability up to the rated overspeed.  \\nThe rotor windings are made to match (at the \\nminimum) the insulation class of the stator.  \\nThis ensures outstanding reliability and a long \\nservice life, even with asymmetric loads or under \\nexceptional conditions.\\nModular stator design\\nEach application has its own specific \\nrequirements in terms of motor performance. Our \\nmodular stator design allows us to precisely \\nmatch the performance of every ABB synchronous \\nmotor to the needs of its application.'),\n",
       " Document(metadata={'producer': 'Adobe PDF Library 15.0', 'creator': 'Adobe InDesign CC 14.0 (Macintosh)', 'creationdate': '2018-12-17T10:36:57+02:00', 'moddate': '2018-12-17T10:37:17+02:00', 'trapped': '/False', 'source': '..\\\\data\\\\pdf\\\\21120_ABB_Synchronous_motors.pdf', 'total_pages': 20, 'page': 8, 'page_label': '9', 'source_file': '21120_ABB_Synchronous_motors.pdf', 'file_type': 'pdf'}, page_content='requirements in terms of motor performance. Our \\nmodular stator design allows us to precisely \\nmatch the performance of every ABB synchronous \\nmotor to the needs of its application.\\nThe use of high grade core material increases \\nefficiency and reduces operating costs. Radial \\ncooling ducts ensure uniform and effective \\ncooling.\\nThe rigid stator construction transmits all forces \\nvia the frame to the foundation to minimize \\nvibrations. The windings are insulated with \\nmica-based tape. When the windings are in \\nplace, the complete stator undergoes vacuum \\npressure impregnation (VPI). The windings are \\nclass F insulated, which gives good thermal \\nmargins.'),\n",
       " Document(metadata={'producer': 'Adobe PDF Library 15.0', 'creator': 'Adobe InDesign CC 14.0 (Macintosh)', 'creationdate': '2018-12-17T10:36:57+02:00', 'moddate': '2018-12-17T10:37:17+02:00', 'trapped': '/False', 'source': '..\\\\data\\\\pdf\\\\21120_ABB_Synchronous_motors.pdf', 'total_pages': 20, 'page': 9, 'page_label': '10', 'source_file': '21120_ABB_Synchronous_motors.pdf', 'file_type': 'pdf'}, page_content='—\\nEffective cooling\\nThe wide range of available cooling methods ensures that you  \\ncan select the optimum system to match the motor’s operating  \\nand environmental conditions.\\nThe three most commonly used cooling methods \\nare air-to-water, air-to-air and open air. Whichever \\nmethod is chosen, it will provide effective cooling \\nof the complete motor.\\nAir-to-water closed circuit cooling\\nThe cooling air circulates in a closed circuit \\nthrough the active parts of the motor and then \\nthrough an air-to-water heat exchanger. This \\nmethod is especially recommended if cooling \\nwater is available nearby. It is an ideal solution for \\nsituations where closed circuit cooling is required \\ndue to installation outdoors or in a hazardous \\narea, or whenever the quality of the surrounding \\nair is not suitable for direct cooling. It is also a \\ngood choice for motors installed in machine \\nrooms with limited ventilation, such as on board \\nships or in pumping stations that are fully \\nenclosed.'),\n",
       " Document(metadata={'producer': 'Adobe PDF Library 15.0', 'creator': 'Adobe InDesign CC 14.0 (Macintosh)', 'creationdate': '2018-12-17T10:36:57+02:00', 'moddate': '2018-12-17T10:37:17+02:00', 'trapped': '/False', 'source': '..\\\\data\\\\pdf\\\\21120_ABB_Synchronous_motors.pdf', 'total_pages': 20, 'page': 9, 'page_label': '10', 'source_file': '21120_ABB_Synchronous_motors.pdf', 'file_type': 'pdf'}, page_content='good choice for motors installed in machine \\nrooms with limited ventilation, such as on board \\nships or in pumping stations that are fully \\nenclosed.\\nAir-to-air closed circuit cooling\\nThe cooling air circulates in a closed circuit \\nthrough the active parts of the motor and \\nthrough an air-to-air heat exchanger. This \\nsolution is generally used when a closed circuit \\ncooling system – such as air-to-water cooling – is \\nrequired but water is not readily available. An \\nadditional shaft-mounted or separate electric fan \\nis needed to ensure sufficient air flow through \\nthe cooler.\\nOpen air cooling\\nOpen air cooling can be used where the air in the \\nimmediate environment is relatively clean and \\nthere is adequate air circulation. The cooling air is \\ntypically drawn in through filters, passed through \\nthe active parts of the motor, and then exhausted \\nback to the environment. If the machine room \\nventilation system cannot compensate for the \\ntemperature gradient, the motor air outlet can be'),\n",
       " Document(metadata={'producer': 'Adobe PDF Library 15.0', 'creator': 'Adobe InDesign CC 14.0 (Macintosh)', 'creationdate': '2018-12-17T10:36:57+02:00', 'moddate': '2018-12-17T10:37:17+02:00', 'trapped': '/False', 'source': '..\\\\data\\\\pdf\\\\21120_ABB_Synchronous_motors.pdf', 'total_pages': 20, 'page': 9, 'page_label': '10', 'source_file': '21120_ABB_Synchronous_motors.pdf', 'file_type': 'pdf'}, page_content='the active parts of the motor, and then exhausted \\nback to the environment. If the machine room \\nventilation system cannot compensate for the \\ntemperature gradient, the motor air outlet can be \\nducted to exhaust the air outdoors.\\nEnclosure protection classes\\nAvailable protection classes are IP23, IP44, IP54, \\nIP55 or IP66, or NEMA equivalents. Motors can \\nalso be supplied for hazardous areas in \\naccordance with IEC/ATEX or NEC regulations \\n(increased safety or pressurized construction).\\n10\\nSYNCHRONOUS MOTORS HIGH PERFORMANCE IN ALL APPLICATIONS'),\n",
       " Document(metadata={'producer': 'Adobe PDF Library 15.0', 'creator': 'Adobe InDesign CC 14.0 (Macintosh)', 'creationdate': '2018-12-17T10:36:57+02:00', 'moddate': '2018-12-17T10:37:17+02:00', 'trapped': '/False', 'source': '..\\\\data\\\\pdf\\\\21120_ABB_Synchronous_motors.pdf', 'total_pages': 20, 'page': 10, 'page_label': '11', 'source_file': '21120_ABB_Synchronous_motors.pdf', 'file_type': 'pdf'}, page_content='—\\nBearings and accessories\\nHigh quality bearings\\nSelection of the optimal bearing makes a significant difference to reliability.\\nThe choice of optimal bearing arrangement and \\ntype is influenced by a number of factors. These \\ninclude customer requirements and operating \\nconditions like ambient temperature, air \\ncleanliness, vibration levels and possible shocks \\naffecting the bearings. Also radial and axial loads, \\nrotation speed, coupling type and the type of \\ndriven equipment should be taken into account.\\nABB synchronous motors use quality sleeve \\nbearings that withstand high levels of vibration \\nand offer great performance. The bearings \\nprovide the same outstanding reliability under \\nstatic and dynamic (radial and axial) loads. Their \\nexcellent heat transfer capability makes them \\nequally suitable for low and high speed \\napplications.\\nEnd-shield mounted bearings are always used in \\nhigher speed (four and six pole) motors. Pedestal \\nmounted bearings are generally used for the'),\n",
       " Document(metadata={'producer': 'Adobe PDF Library 15.0', 'creator': 'Adobe InDesign CC 14.0 (Macintosh)', 'creationdate': '2018-12-17T10:36:57+02:00', 'moddate': '2018-12-17T10:37:17+02:00', 'trapped': '/False', 'source': '..\\\\data\\\\pdf\\\\21120_ABB_Synchronous_motors.pdf', 'total_pages': 20, 'page': 10, 'page_label': '11', 'source_file': '21120_ABB_Synchronous_motors.pdf', 'file_type': 'pdf'}, page_content='equally suitable for low and high speed \\napplications.\\nEnd-shield mounted bearings are always used in \\nhigher speed (four and six pole) motors. Pedestal \\nmounted bearings are generally used for the \\nlargest frame sizes of lower speed motors. Motors \\nwith pedestal bearings are as easy to mount and \\nalign as those with end-shield mounted bearings. \\nThe motors are normally delivered ready \\nassembled and require no further assembly on \\nsite. Separate pedestal bearing motors are often \\nmounted on a common base frame.\\nSleeve bearings last as long as the expected \\nlifetime of the motor, provided that the operating \\nconditions and maintenance intervals are as \\nspecified. The bearing housing is designed to \\npermit easy access for inspection and \\nmaintenance. The bearings are insulated from the \\nmotor frame to eliminate circulating currents in \\nthe shaft, and the shaft can be earthed. The \\nbearings are sealed against oil leakage with \\nlabyrinth seals. Sleeve bearings are designed to'),\n",
       " Document(metadata={'producer': 'Adobe PDF Library 15.0', 'creator': 'Adobe InDesign CC 14.0 (Macintosh)', 'creationdate': '2018-12-17T10:36:57+02:00', 'moddate': '2018-12-17T10:37:17+02:00', 'trapped': '/False', 'source': '..\\\\data\\\\pdf\\\\21120_ABB_Synchronous_motors.pdf', 'total_pages': 20, 'page': 10, 'page_label': '11', 'source_file': '21120_ABB_Synchronous_motors.pdf', 'file_type': 'pdf'}, page_content='motor frame to eliminate circulating currents in \\nthe shaft, and the shaft can be earthed. The \\nbearings are sealed against oil leakage with \\nlabyrinth seals. Sleeve bearings are designed to \\nbe insensitive to misalignment and to permit \\nlarge axial play.\\nLubrication\\nIn some cases the bearings are self-lubricated by \\nmeans of an oil ring, which picks up the \\nlubricating oil and transfers it directly to the \\nshaft, forming an independent and highly reliable \\nlubrication system.\\nIn applications involving large loads, high speeds, \\nhigh ambient temperature or where the motor is \\nmounted in an inclined position, an external oil \\ncooling and circulation system may be necessary, \\nunless the oil is supplied directly from the \\nlubrication system of the driven equipment. In \\ncertain applications which run at slow speeds, a \\njack-up system may be required  for starting and \\nslow turning.\\nHydrostatic jacking oil systems are available for \\nlow-speed applications and, in specific'),\n",
       " Document(metadata={'producer': 'Adobe PDF Library 15.0', 'creator': 'Adobe InDesign CC 14.0 (Macintosh)', 'creationdate': '2018-12-17T10:36:57+02:00', 'moddate': '2018-12-17T10:37:17+02:00', 'trapped': '/False', 'source': '..\\\\data\\\\pdf\\\\21120_ABB_Synchronous_motors.pdf', 'total_pages': 20, 'page': 10, 'page_label': '11', 'source_file': '21120_ABB_Synchronous_motors.pdf', 'file_type': 'pdf'}, page_content='jack-up system may be required  for starting and \\nslow turning.\\nHydrostatic jacking oil systems are available for \\nlow-speed applications and, in specific \\nsituations, for use during motor start-up and shut \\ndown.\\nAccessories\\nWe offer a broad selection of accessories, \\nincluding devices and equipment for measuring, \\nprotection, termination, lubrication and \\nmounting of the motor. Typical examples are PT-\\n100 sensors, earth fault protection relays, surge \\narrestors, current transformers, rotor \\ntelemetrics, sole plates and anchor bolts.\\nA separate main terminal box is mounted on the \\nside of the motor, featuring bus bars outside the \\nmotor frame and allowing connections from any \\ndirection.\\n11'),\n",
       " Document(metadata={'producer': 'Adobe PDF Library 15.0', 'creator': 'Adobe InDesign CC 14.0 (Macintosh)', 'creationdate': '2018-12-17T10:36:57+02:00', 'moddate': '2018-12-17T10:37:17+02:00', 'trapped': '/False', 'source': '..\\\\data\\\\pdf\\\\21120_ABB_Synchronous_motors.pdf', 'total_pages': 20, 'page': 11, 'page_label': '12', 'source_file': '21120_ABB_Synchronous_motors.pdf', 'file_type': 'pdf'}, page_content='12\\nSYNCHRONOUS MOTORS HIGH PERFORMANCE IN ALL APPLICATIONS\\n—\\nRobust frame\\nLow vibration\\nRobust frame ensures great stability and optimum dynamic behavior.\\nFor maximum flexibility, ABB synchronous motors \\nare designed for horizontal, inclined or vertical \\nmounting. Vertical mounting is available for \\nmotors with eight or more poles.\\nThe robust frame transfers dynamic and static \\nstresses directly to the foundation, reducing \\nvibration and contributing to the overall excellent \\nperformance of the motor.\\nWe can supply motors – even up to the largest \\nsizes and outputs – as complete, ready-to-install \\nunits. This means that no further on-site \\nassembly is needed, which substantially reduces \\ninstallation times and cuts the risk that \\nsomething could go wrong during installation.\\nOur R&D team works closely with manufacturers \\nof driven equipment, using finite element method \\n(FEM) and dynamic animation techniques, to \\nanalyze vibration models, test critical parts and'),\n",
       " Document(metadata={'producer': 'Adobe PDF Library 15.0', 'creator': 'Adobe InDesign CC 14.0 (Macintosh)', 'creationdate': '2018-12-17T10:36:57+02:00', 'moddate': '2018-12-17T10:37:17+02:00', 'trapped': '/False', 'source': '..\\\\data\\\\pdf\\\\21120_ABB_Synchronous_motors.pdf', 'total_pages': 20, 'page': 11, 'page_label': '12', 'source_file': '21120_ABB_Synchronous_motors.pdf', 'file_type': 'pdf'}, page_content='Our R&D team works closely with manufacturers \\nof driven equipment, using finite element method \\n(FEM) and dynamic animation techniques, to \\nanalyze vibration models, test critical parts and \\nverify that harmful mechanical resonances will \\nnot occur in the motor.\\nCorrosion protection\\nOur motors are designed and built to withstand \\nthe relevant environmental conditions. All \\nsurfaces made of steel, aluminum alloy or cast \\niron are treated in accordance with the chosen \\npaint system. Selection of a suitable paint system \\ngives reliable anti-corrosion protection even \\nunder the most severe environmental conditions. \\nFor moderate indoor conditions the standard \\nfinish is moisture-proof in accordance with the \\nrelevant standards.'),\n",
       " Document(metadata={'producer': 'Adobe PDF Library 15.0', 'creator': 'Adobe InDesign CC 14.0 (Macintosh)', 'creationdate': '2018-12-17T10:36:57+02:00', 'moddate': '2018-12-17T10:37:17+02:00', 'trapped': '/False', 'source': '..\\\\data\\\\pdf\\\\21120_ABB_Synchronous_motors.pdf', 'total_pages': 20, 'page': 12, 'page_label': '13', 'source_file': '21120_ABB_Synchronous_motors.pdf', 'file_type': 'pdf'}, page_content='13\\n—\\nExcitation\\nThe right excitation method  \\nfor every application\\nWe ensure that the excitation system matches the outstanding reliability \\nof our motors.\\nFor fixed speed applications and variable speed \\napplications with less demanding dynamic \\ncontrol requirements, a brushless exciter and \\nautomatic voltage regulator are typical options. \\nFor AMS motors, PLC-based regulator is typically \\nused. The brushless system has no wearing parts, \\nand the external excitation power requirement is \\nlow. \\nThe advanced and yet straightforward design has \\na low component count and effective protection \\nfunctions, offering high reliability and easy \\naccess for maintenance.\\nFor variable speed applications where very fast \\nand accurate speed or torque control are \\nrequired, the motor is typically equipped with \\nbrushes and a slip-ring unit to allow excitation \\nand control of the motor from the frequency \\nconverter.\\nHigher speed motors (four and six poles) use a'),\n",
       " Document(metadata={'producer': 'Adobe PDF Library 15.0', 'creator': 'Adobe InDesign CC 14.0 (Macintosh)', 'creationdate': '2018-12-17T10:36:57+02:00', 'moddate': '2018-12-17T10:37:17+02:00', 'trapped': '/False', 'source': '..\\\\data\\\\pdf\\\\21120_ABB_Synchronous_motors.pdf', 'total_pages': 20, 'page': 12, 'page_label': '13', 'source_file': '21120_ABB_Synchronous_motors.pdf', 'file_type': 'pdf'}, page_content='brushes and a slip-ring unit to allow excitation \\nand control of the motor from the frequency \\nconverter.\\nHigher speed motors (four and six poles) use a \\ncompact, brushless exciter unit mounted on the \\nrotor shaft outboard of the bearings. No \\nindependent support or alignment is required. \\nThe high level of field forcing delivers improved \\nsystem performance, which increases the \\nproduction of reactive power and is beneficial \\nwhen faults arise in the supply network.\\nLower speed motors (eight or more poles) \\ntypically have a brushless exciter unit mounted \\ninside the motor enclosure.\\nExcitation control\\nThe motor excitation control panel is supplied in a \\nvariety of basic formats. It houses the excitation \\nequipment, protection system and logic \\nfunctions for starting. We offer a wide range of \\ninstrumentation and control equipment to \\nprotect synchronous motors and ensure excellent \\nreliability, availability and extended product \\nlifetime.'),\n",
       " Document(metadata={'producer': 'Adobe PDF Library 15.0', 'creator': 'Adobe InDesign CC 14.0 (Macintosh)', 'creationdate': '2018-12-17T10:36:57+02:00', 'moddate': '2018-12-17T10:37:17+02:00', 'trapped': '/False', 'source': '..\\\\data\\\\pdf\\\\21120_ABB_Synchronous_motors.pdf', 'total_pages': 20, 'page': 13, 'page_label': '14', 'source_file': '21120_ABB_Synchronous_motors.pdf', 'file_type': 'pdf'}, page_content='14\\nSYNCHRONOUS MOTORS HIGH PERFORMANCE IN ALL APPLICATIONS\\n—\\nProven insulation system\\nHigh reliability, long lifetime\\nInsulation is crucial for overall reliability.\\nABB has used the Micadur® Compact Industry \\n(MCI) insulation system for several decades, and \\nit has gone into tens of thousands of large \\nmotors and generators. Over this time, there have \\nbeen no known primary insulation failures due to \\nthermal aging. Thermal lifetime tests confirm \\nthat the endurance of the MCI system \\ncomfortably exceeds the requirements of \\nInternational Electrotechnical Commission (IEC) \\nand Institute of Electrical and Electronics \\nEngineers (IEEE) standards.\\nThe MCI insulation system is based on vacuum \\npressure impregnation (VPI) of mica materials. A \\nspecially formulated epoxy resin is used to \\nproduce a sealed and homogenous insulation \\nsystem with good performance in terms of \\ndielectric strength, heat transfer and elimination \\nof partial discharge - factors that promote great'),\n",
       " Document(metadata={'producer': 'Adobe PDF Library 15.0', 'creator': 'Adobe InDesign CC 14.0 (Macintosh)', 'creationdate': '2018-12-17T10:36:57+02:00', 'moddate': '2018-12-17T10:37:17+02:00', 'trapped': '/False', 'source': '..\\\\data\\\\pdf\\\\21120_ABB_Synchronous_motors.pdf', 'total_pages': 20, 'page': 13, 'page_label': '14', 'source_file': '21120_ABB_Synchronous_motors.pdf', 'file_type': 'pdf'}, page_content='produce a sealed and homogenous insulation \\nsystem with good performance in terms of \\ndielectric strength, heat transfer and elimination \\nof partial discharge - factors that promote great \\nreliability. Testing of the insulation system \\nincludes close monitoring of the impregnation \\nprocess, curing times and pressure levels.\\nThe systematic VPI process is highly effective. \\nAfter VPI is completed, stators and rotors are \\ncured in an oven at high temperature, producing \\nvery strong and stable insulation with high \\nmechanical and electrical strength. This is \\nespecially important in order to resist inadvertent \\nhigh stresses from out-of-phase synchronization, \\ntransients and short circuits.\\nEven the largest wound stators are impregnated \\nas complete units, ensuring that both the \\ninsulation and the mechanical properties of the \\nwindings are excellent. This means that they can \\nwithstand vibrations induced by the driven \\nequipment and the mechanical stresses caused'),\n",
       " Document(metadata={'producer': 'Adobe PDF Library 15.0', 'creator': 'Adobe InDesign CC 14.0 (Macintosh)', 'creationdate': '2018-12-17T10:36:57+02:00', 'moddate': '2018-12-17T10:37:17+02:00', 'trapped': '/False', 'source': '..\\\\data\\\\pdf\\\\21120_ABB_Synchronous_motors.pdf', 'total_pages': 20, 'page': 13, 'page_label': '14', 'source_file': '21120_ABB_Synchronous_motors.pdf', 'file_type': 'pdf'}, page_content='insulation and the mechanical properties of the \\nwindings are excellent. This means that they can \\nwithstand vibrations induced by the driven \\nequipment and the mechanical stresses caused \\nby transients such as short circuits.\\nMedium and high voltage windings up to 15,000 V \\nare made of form wound rectangular copper wire \\ninsulated with multiple layers of glass-fiber \\nreinforced mica-tape. All the materials used, \\nincluding the VPI resin, exceed the requirements \\nof thermal class F.'),\n",
       " Document(metadata={'producer': 'Adobe PDF Library 15.0', 'creator': 'Adobe InDesign CC 14.0 (Macintosh)', 'creationdate': '2018-12-17T10:36:57+02:00', 'moddate': '2018-12-17T10:37:17+02:00', 'trapped': '/False', 'source': '..\\\\data\\\\pdf\\\\21120_ABB_Synchronous_motors.pdf', 'total_pages': 20, 'page': 14, 'page_label': '15', 'source_file': '21120_ABB_Synchronous_motors.pdf', 'file_type': 'pdf'}, page_content='15\\n—\\nTesting\\nThree levels of testing\\nEach motor is thoroughly tested before it leaves the factory.\\nDuring manufacturing, our motors typically pass \\nthrough more than 50 separate quality control \\npoints comprising hundreds of individual \\ninspections. In addition, components and \\nassemblies constantly undergo quality \\nmonitoring, inspections, reliability evaluations \\nand other tests as they progress through the \\nmanufacturing process.\\nFactory Acceptance Testing (FAT) is the final, \\ncomprehensive set of tests that every motor \\nmust pass before it leaves the plant. FAT verifies \\nthat the motor meets the customer’s \\nspecifications and application requirements. The \\nresults are compiled in a report that is supplied \\ntogether with the motor. Customers can attend \\nthe tests in person. For tests at the Helsinki \\nfactory we also offer the option of attending the \\ntests via our online FAT system.\\n \\nOur test field is fully equipped to perform three \\nseparate levels of testing, and we can also run'),\n",
       " Document(metadata={'producer': 'Adobe PDF Library 15.0', 'creator': 'Adobe InDesign CC 14.0 (Macintosh)', 'creationdate': '2018-12-17T10:36:57+02:00', 'moddate': '2018-12-17T10:37:17+02:00', 'trapped': '/False', 'source': '..\\\\data\\\\pdf\\\\21120_ABB_Synchronous_motors.pdf', 'total_pages': 20, 'page': 14, 'page_label': '15', 'source_file': '21120_ABB_Synchronous_motors.pdf', 'file_type': 'pdf'}, page_content='factory we also offer the option of attending the \\ntests via our online FAT system.\\n \\nOur test field is fully equipped to perform three \\nseparate levels of testing, and we can also run \\ncombined tests with the customer’s own variable \\nspeed drive (VSD) and transformer.\\nThe insulation system is tested at full-voltage \\nlevels. Unless otherwise specified, testing is \\nperformed according to the IEC 60034 standard. \\nTesting according to classification society \\nrequirements can also be done.\\n—\\nThree levels of testing\\n1. Routine tests\\n• performed on all motors\\n3. Special tests\\n• may be conducted to verify performance in special conditions, eg, to verify compliance with \\ncustomer specifications regarding noise or vibration\\n• could also be done with regard to hazardous area or marine classification society requirements\\n2. Type tests\\n• done in addition to routine tests\\n• normally performed on one motor in a series that has not been previously manufactured'),\n",
       " Document(metadata={'producer': 'Adobe PDF Library 15.0', 'creator': 'Adobe InDesign CC 14.0 (Macintosh)', 'creationdate': '2018-12-17T10:36:57+02:00', 'moddate': '2018-12-17T10:37:17+02:00', 'trapped': '/False', 'source': '..\\\\data\\\\pdf\\\\21120_ABB_Synchronous_motors.pdf', 'total_pages': 20, 'page': 14, 'page_label': '15', 'source_file': '21120_ABB_Synchronous_motors.pdf', 'file_type': 'pdf'}, page_content='2. Type tests\\n• done in addition to routine tests\\n• normally performed on one motor in a series that has not been previously manufactured\\n• can also be undertaken at the customer’s request'),\n",
       " Document(metadata={'producer': 'Adobe PDF Library 15.0', 'creator': 'Adobe InDesign CC 14.0 (Macintosh)', 'creationdate': '2018-12-17T10:36:57+02:00', 'moddate': '2018-12-17T10:37:17+02:00', 'trapped': '/False', 'source': '..\\\\data\\\\pdf\\\\21120_ABB_Synchronous_motors.pdf', 'total_pages': 20, 'page': 15, 'page_label': '16', 'source_file': '21120_ABB_Synchronous_motors.pdf', 'file_type': 'pdf'}, page_content='16\\nSYNCHRONOUS MOTORS HIGH PERFORMANCE IN ALL APPLICATIONS\\n—\\nLife cycle services and support\\nFrom pre-purchase to migration and upgrades\\nABB offers a complete portfolio of services to ensure trouble-free operation and long \\nproduct lifetimes. These services cover the entire life cycle. Local support is provided \\nthrough a global network of ABB service centers and certified partners.\\nPre-purchase\\nABB’s front-end sales organization can help \\ncustomers to quickly and efficiently select, \\nconfigure and optimize the right motor for \\ntheir application.\\nInstallation and commissioning\\nProfessional installation and commissioning by \\nABB’s certified engineers represent an investment \\nin availability and reliability over the entire life cycle. \\nEngineering and consulting \\nABB’s experts provide energy efficiency and \\nreliability appraisals, advanced condition and \\nperformance assessments and technical studies. \\nCondition Monitoring and Diagnosis\\nABB’s unique services deliver early warnings'),\n",
       " Document(metadata={'producer': 'Adobe PDF Library 15.0', 'creator': 'Adobe InDesign CC 14.0 (Macintosh)', 'creationdate': '2018-12-17T10:36:57+02:00', 'moddate': '2018-12-17T10:37:17+02:00', 'trapped': '/False', 'source': '..\\\\data\\\\pdf\\\\21120_ABB_Synchronous_motors.pdf', 'total_pages': 20, 'page': 15, 'page_label': '16', 'source_file': '21120_ABB_Synchronous_motors.pdf', 'file_type': 'pdf'}, page_content='reliability appraisals, advanced condition and \\nperformance assessments and technical studies. \\nCondition Monitoring and Diagnosis\\nABB’s unique services deliver early warnings \\nof developing problems before failures occur. \\nThe required data can be collected by an engineer \\nduring a site visit or by means of remote monitoring \\nsolutions. Integration into the ABB Ability™ platform means \\nthe data can be transmitted to the cloud and accessed and \\nanalyzed remotely, allowing even greater insight into the \\nhealth of the equipment. The services focus on critical areas \\nlike the bearings, rotor winding, stator winding insulation \\nand overall mechanical condition.\\nMaintenance and field services\\nABB offers life cycle management plans and \\npreventive maintenance products. \\nThe recommended four-level maintenance \\nprogram covers the entire product lifetime.\\nSpare parts\\nSpare parts and support are offered throughout \\nthe life cycle of ABB products. In addition to'),\n",
       " Document(metadata={'producer': 'Adobe PDF Library 15.0', 'creator': 'Adobe InDesign CC 14.0 (Macintosh)', 'creationdate': '2018-12-17T10:36:57+02:00', 'moddate': '2018-12-17T10:37:17+02:00', 'trapped': '/False', 'source': '..\\\\data\\\\pdf\\\\21120_ABB_Synchronous_motors.pdf', 'total_pages': 20, 'page': 15, 'page_label': '16', 'source_file': '21120_ABB_Synchronous_motors.pdf', 'file_type': 'pdf'}, page_content='The recommended four-level maintenance \\nprogram covers the entire product lifetime.\\nSpare parts\\nSpare parts and support are offered throughout \\nthe life cycle of ABB products. In addition to \\nindividual spares, tailored spare part packages \\nare also available.\\nRepair and refurbishment\\nSupport for all ABB motors and other \\nbrands is provided by ABB’s global service \\norganization. Specialist teams can also deliver \\nemergency support. \\nMigration and upgrades\\nLife cycle audits determine the optimum \\nupgrades and migration paths. Upgrades \\nrange from individual components to direct \\nreplacement motors. \\nTraining\\nProduct and service training courses take a \\npractical approach. The training ranges from \\nstandard courses to specially tailored programs \\nto suit customer requirements. \\nSpecialized support \\nSpecialized support is offered through ABB’s \\nglobal service organization. Local units provide \\nmajor and minor repairs as well as overhauls \\nand reconditioning.\\nService contracts'),\n",
       " Document(metadata={'producer': 'Adobe PDF Library 15.0', 'creator': 'Adobe InDesign CC 14.0 (Macintosh)', 'creationdate': '2018-12-17T10:36:57+02:00', 'moddate': '2018-12-17T10:37:17+02:00', 'trapped': '/False', 'source': '..\\\\data\\\\pdf\\\\21120_ABB_Synchronous_motors.pdf', 'total_pages': 20, 'page': 15, 'page_label': '16', 'source_file': '21120_ABB_Synchronous_motors.pdf', 'file_type': 'pdf'}, page_content='Specialized support is offered through ABB’s \\nglobal service organization. Local units provide \\nmajor and minor repairs as well as overhauls \\nand reconditioning.\\nService contracts\\nService contracts are tailored to the customer’s \\nneeds. The contracts combine ABB’s entire service \\nportfolio and 130 years of experience to deploy \\nthe optimal service practices.'),\n",
       " Document(metadata={'producer': 'Adobe PDF Library 15.0', 'creator': 'Adobe InDesign CC 14.0 (Macintosh)', 'creationdate': '2018-12-17T10:36:57+02:00', 'moddate': '2018-12-17T10:37:17+02:00', 'trapped': '/False', 'source': '..\\\\data\\\\pdf\\\\21120_ABB_Synchronous_motors.pdf', 'total_pages': 20, 'page': 16, 'page_label': '17', 'source_file': '21120_ABB_Synchronous_motors.pdf', 'file_type': 'pdf'}, page_content='17\\nIEC motors\\n• Low voltage motors\\n• High voltage induction and synchronous  \\nmotors\\n• Marine motors\\n• Motors for explosive atmospheres\\n• Motors for food and beverage\\n• Motors for variable speed drives\\n• Permanent magnet motors\\n• Synchronous reluctance motors\\n• Traction motors\\nNEMA motors\\n• Low voltage motors\\n• High voltage induction and synchronous  \\nmotors\\n• Marine motors\\n• Motors for explosive atmospheres\\n• Motors for variable speed drives\\n• Permanent magnet motors\\n• Servomotors\\n• Washdown motors\\nGenerators\\n• Generators for wind turbines\\n• Generators for diesel and gas engine power \\nplants\\n• Generators for steam and gas turbine power \\nplants\\n• Generators for marine applications\\n• Generators for industrial applications\\n• Generators for traction applications\\n• Synchronous condensers for reactive power \\ncompensation\\nMechanical power transmission components, \\nbearings, gearings\\n• Mounted bearings\\n• Enclosed gearing\\n• Mechanical drive components\\n• Couplings\\n• Sheaves and bushings'),\n",
       " Document(metadata={'producer': 'Adobe PDF Library 15.0', 'creator': 'Adobe InDesign CC 14.0 (Macintosh)', 'creationdate': '2018-12-17T10:36:57+02:00', 'moddate': '2018-12-17T10:37:17+02:00', 'trapped': '/False', 'source': '..\\\\data\\\\pdf\\\\21120_ABB_Synchronous_motors.pdf', 'total_pages': 20, 'page': 16, 'page_label': '17', 'source_file': '21120_ABB_Synchronous_motors.pdf', 'file_type': 'pdf'}, page_content='compensation\\nMechanical power transmission components, \\nbearings, gearings\\n• Mounted bearings\\n• Enclosed gearing\\n• Mechanical drive components\\n• Couplings\\n• Sheaves and bushings\\n• Conveyor components\\n• Geared motor units\\nLife cycle services\\n—\\nTotal product offering\\nABB offers a wide range of motors, generators and mechanical power \\ntransmission products with a complete portfolio of services.'),\n",
       " Document(metadata={'producer': 'Adobe PDF Library 15.0', 'creator': 'Adobe InDesign CC 14.0 (Macintosh)', 'creationdate': '2018-12-17T10:36:57+02:00', 'moddate': '2018-12-17T10:37:17+02:00', 'trapped': '/False', 'source': '..\\\\data\\\\pdf\\\\21120_ABB_Synchronous_motors.pdf', 'total_pages': 20, 'page': 17, 'page_label': '18', 'source_file': '21120_ABB_Synchronous_motors.pdf', 'file_type': 'pdf'}, page_content='18\\nSYNCHRONOUS MOTORS HIGH PERFORMANCE IN ALL APPLICATIONS\\n—\\nNotes'),\n",
       " Document(metadata={'producer': 'Adobe PDF Library 15.0', 'creator': 'Adobe InDesign CC 14.0 (Macintosh)', 'creationdate': '2018-12-17T10:36:57+02:00', 'moddate': '2018-12-17T10:37:17+02:00', 'trapped': '/False', 'source': '..\\\\data\\\\pdf\\\\21120_ABB_Synchronous_motors.pdf', 'total_pages': 20, 'page': 19, 'page_label': 'U2', 'source_file': '21120_ABB_Synchronous_motors.pdf', 'file_type': 'pdf'}, page_content='9AKK105576 EN 12-2018\\n© Copyright 2018 ABB. All rights reserved. \\nSpecifications subject to change without notice.\\n—\\nFor more information and contact details: \\nabb.com/motors&generators')]"
      ]
     },
     "execution_count": 5,
     "metadata": {},
     "output_type": "execute_result"
    }
   ],
   "source": [
    "chunks=split_documents(all_pdf_documents)\n",
    "chunks"
   ]
  },
  {
   "cell_type": "markdown",
   "id": "97fe92ea",
   "metadata": {},
   "source": [
    "### embedding And vectorStoreDB"
   ]
  },
  {
   "cell_type": "code",
   "execution_count": null,
   "id": "e3ae3031",
   "metadata": {},
   "outputs": [],
   "source": [
    "import numpy as np\n",
    "from sentence_transformers import SentenceTransformer\n",
    "import chromadb\n",
    "from chromadb.config import Settings\n",
    "import uuid\n",
    "from typing import List, Dict, Any, Tuple\n",
    "from sklearn.metrics.pairwise import cosine_similarity"
   ]
  },
  {
   "cell_type": "code",
   "execution_count": null,
   "id": "543614c4",
   "metadata": {},
   "outputs": [
    {
     "name": "stdout",
     "output_type": "stream",
     "text": [
      "Loading embedding model: all-MiniLM-L6-v2\n",
      "Model loaded successfully. Embedding dimension: 384\n"
     ]
    },
    {
     "data": {
      "text/plain": [
       "<__main__.EmbeddingManager at 0x1ed93474ec0>"
      ]
     },
     "execution_count": 7,
     "metadata": {},
     "output_type": "execute_result"
    }
   ],
   "source": [
    "class EmbeddingManager:\n",
    "    \"\"\"Handles document embedding generation using SentenceTransformer\"\"\"\n",
    "    \n",
    "    def __init__(self, model_name: str = \"all-MiniLM-L6-v2\"):\n",
    "        \"\"\"\n",
    "        Initialize the embedding manager\n",
    "        \n",
    "        Args:\n",
    "            model_name: HuggingFace model name for sentence embeddings\n",
    "        \"\"\"\n",
    "        self.model_name = model_name\n",
    "        self.model = None\n",
    "        self._load_model()\n",
    "\n",
    "    def _load_model(self):\n",
    "        \"\"\"Load the SentenceTransformer model\"\"\"\n",
    "        try:\n",
    "            print(f\"Loading embedding model: {self.model_name}\")\n",
    "            self.model = SentenceTransformer(self.model_name)\n",
    "            print(f\"Model loaded successfully. Embedding dimension: {self.model.get_sentence_embedding_dimension()}\")\n",
    "        except Exception as e:\n",
    "            print(f\"Error loading model {self.model_name}: {e}\")\n",
    "            raise\n",
    "\n",
    "    def generate_embeddings(self, texts: List[str]) -> np.ndarray:\n",
    "        \"\"\"\n",
    "        Generate embeddings for a list of texts\n",
    "        \n",
    "        Args:\n",
    "            texts: List of text strings to embed\n",
    "            \n",
    "        Returns:\n",
    "            numpy array of embeddings with shape (len(texts), embedding_dim)\n",
    "        \"\"\"\n",
    "        if not self.model:\n",
    "            raise ValueError(\"Model not loaded\")\n",
    "        \n",
    "        print(f\"Generating embeddings for {len(texts)} texts...\")\n",
    "        embeddings = self.model.encode(texts, show_progress_bar=True)\n",
    "        print(f\"Generated embeddings with shape: {embeddings.shape}\")\n",
    "        return embeddings\n",
    "\n",
    "\n",
    "## initialize the embedding manager\n",
    "\n",
    "embedding_manager=EmbeddingManager()\n",
    "embedding_manager\n"
   ]
  },
  {
   "cell_type": "markdown",
   "id": "f62c9e3b",
   "metadata": {},
   "source": [
    "### VectorStore"
   ]
  },
  {
   "cell_type": "code",
   "execution_count": null,
   "id": "c276d1ca",
   "metadata": {},
   "outputs": [
    {
     "name": "stdout",
     "output_type": "stream",
     "text": [
      "Vector store initialized. Collection: pdf_documents\n",
      "Existing documents in collection: 0\n"
     ]
    },
    {
     "data": {
      "text/plain": [
       "<__main__.VectorStore at 0x1ed93fb0440>"
      ]
     },
     "execution_count": 8,
     "metadata": {},
     "output_type": "execute_result"
    }
   ],
   "source": [
    "class VectorStore:\n",
    "    \"\"\"Manages document embeddings in a ChromaDB vector store\"\"\"\n",
    "    \n",
    "    def __init__(self, collection_name: str = \"pdf_documents\", persist_directory: str = \"../data/vector_store\"):\n",
    "        \"\"\"\n",
    "        Initialize the vector store\n",
    "        \n",
    "        Args:\n",
    "            collection_name: Name of the ChromaDB collection\n",
    "            persist_directory: Directory to persist the vector store\n",
    "        \"\"\"\n",
    "        self.collection_name = collection_name\n",
    "        self.persist_directory = persist_directory\n",
    "        self.client = None\n",
    "        self.collection = None\n",
    "        self._initialize_store()\n",
    "\n",
    "    def _initialize_store(self):\n",
    "        \"\"\"Initialize ChromaDB client and collection\"\"\"\n",
    "        try:\n",
    "            # Create persistent ChromaDB client\n",
    "            os.makedirs(self.persist_directory, exist_ok=True)\n",
    "            self.client = chromadb.PersistentClient(path=self.persist_directory)\n",
    "            \n",
    "            # Get or create collection\n",
    "            self.collection = self.client.get_or_create_collection(\n",
    "                name=self.collection_name,\n",
    "                metadata={\"description\": \"PDF document embeddings for RAG\"}\n",
    "            )\n",
    "            print(f\"Vector store initialized. Collection: {self.collection_name}\")\n",
    "            print(f\"Existing documents in collection: {self.collection.count()}\")\n",
    "            \n",
    "        except Exception as e:\n",
    "            print(f\"Error initializing vector store: {e}\")\n",
    "            raise\n",
    "\n",
    "    def add_documents(self, documents: List[Any], embeddings: np.ndarray):\n",
    "        \"\"\"\n",
    "        Add documents and their embeddings to the vector store\n",
    "        \n",
    "        Args:\n",
    "            documents: List of LangChain documents\n",
    "            embeddings: Corresponding embeddings for the documents\n",
    "        \"\"\"\n",
    "        if len(documents) != len(embeddings):\n",
    "            raise ValueError(\"Number of documents must match number of embeddings\")\n",
    "        \n",
    "        print(f\"Adding {len(documents)} documents to vector store...\")\n",
    "        \n",
    "        # Prepare data for ChromaDB\n",
    "        ids = []\n",
    "        metadatas = []\n",
    "        documents_text = []\n",
    "        embeddings_list = []\n",
    "        \n",
    "        for i, (doc, embedding) in enumerate(zip(documents, embeddings)):\n",
    "            # Generate unique ID\n",
    "            doc_id = f\"doc_{uuid.uuid4().hex[:8]}_{i}\"\n",
    "            ids.append(doc_id)\n",
    "            \n",
    "            # Prepare metadata\n",
    "            metadata = dict(doc.metadata)\n",
    "            metadata['doc_index'] = i\n",
    "            metadata['content_length'] = len(doc.page_content)\n",
    "            metadatas.append(metadata)\n",
    "            \n",
    "            # Document content\n",
    "            documents_text.append(doc.page_content)\n",
    "            \n",
    "            # Embedding\n",
    "            embeddings_list.append(embedding.tolist())\n",
    "        \n",
    "        # Add to collection\n",
    "        try:\n",
    "            self.collection.add(\n",
    "                ids=ids,\n",
    "                embeddings=embeddings_list,\n",
    "                metadatas=metadatas,\n",
    "                documents=documents_text\n",
    "            )\n",
    "            print(f\"Successfully added {len(documents)} documents to vector store\")\n",
    "            print(f\"Total documents in collection: {self.collection.count()}\")\n",
    "            \n",
    "        except Exception as e:\n",
    "            print(f\"Error adding documents to vector store: {e}\")\n",
    "            raise\n",
    "\n",
    "vectorstore=VectorStore()\n",
    "vectorstore\n",
    "    "
   ]
  },
  {
   "cell_type": "code",
   "execution_count": null,
   "id": "2d5d2c88",
   "metadata": {},
   "outputs": [
    {
     "data": {
      "text/plain": [
       "[Document(metadata={'producer': 'Adobe PDF Library 15.0', 'creator': 'Adobe InDesign CC 14.0 (Macintosh)', 'creationdate': '2018-12-17T10:36:57+02:00', 'moddate': '2018-12-17T10:37:17+02:00', 'trapped': '/False', 'source': '..\\\\data\\\\pdf\\\\21120_ABB_Synchronous_motors.pdf', 'total_pages': 20, 'page': 0, 'page_label': 'U1', 'source_file': '21120_ABB_Synchronous_motors.pdf', 'file_type': 'pdf'}, page_content='— \\nSynchronous motors\\nHigh performance in all applications\\n—\\nBROCHURE  \\nSynchronous motors\\nHigh performance in all applications\\nABB synchronous motors help  \\nour customers to cut operating, \\nmaintenance and energy costs while \\nlowering environmental impact.'),\n",
       " Document(metadata={'producer': 'Adobe PDF Library 15.0', 'creator': 'Adobe InDesign CC 14.0 (Macintosh)', 'creationdate': '2018-12-17T10:36:57+02:00', 'moddate': '2018-12-17T10:37:17+02:00', 'trapped': '/False', 'source': '..\\\\data\\\\pdf\\\\21120_ABB_Synchronous_motors.pdf', 'total_pages': 20, 'page': 1, 'page_label': '2', 'source_file': '21120_ABB_Synchronous_motors.pdf', 'file_type': 'pdf'}, page_content='— \\nWe provide motors and \\ngenerators, services and \\nexpertise to save energy  \\nand improve customers’ \\nprocesses over the total life \\ncycle of our products, and \\nbeyond.'),\n",
       " Document(metadata={'producer': 'Adobe PDF Library 15.0', 'creator': 'Adobe InDesign CC 14.0 (Macintosh)', 'creationdate': '2018-12-17T10:36:57+02:00', 'moddate': '2018-12-17T10:37:17+02:00', 'trapped': '/False', 'source': '..\\\\data\\\\pdf\\\\21120_ABB_Synchronous_motors.pdf', 'total_pages': 20, 'page': 2, 'page_label': '3', 'source_file': '21120_ABB_Synchronous_motors.pdf', 'file_type': 'pdf'}, page_content='— \\nTable of contents\\n004  Synchronous motors  \\nfrom the world’s leading \\nsupplier \\n005  Efficiency and reliability  \\nfor a wide range of applications \\n006  Fixed and variable speed motors \\n008  Proven reliability\\n010  Effective cooling \\n011  Bearings and accessories\\n012  Robust frame\\n013  Excitation\\n014  Proven insulation system\\n015  Testing\\n016  Life cycle services and support\\n017 Total product offering'),\n",
       " Document(metadata={'producer': 'Adobe PDF Library 15.0', 'creator': 'Adobe InDesign CC 14.0 (Macintosh)', 'creationdate': '2018-12-17T10:36:57+02:00', 'moddate': '2018-12-17T10:37:17+02:00', 'trapped': '/False', 'source': '..\\\\data\\\\pdf\\\\21120_ABB_Synchronous_motors.pdf', 'total_pages': 20, 'page': 3, 'page_label': '4', 'source_file': '21120_ABB_Synchronous_motors.pdf', 'file_type': 'pdf'}, page_content='4\\nSYNCHRONOUS MOTORS HIGH PERFORMANCE IN ALL APPLICATIONS\\n—\\nSynchronous motors  \\nfrom the world’s leading supplier\\nHigh performance in all applications\\nDesigned to provide outstanding reliability and efficiency,  \\nABB synchronous motors help our customers to cut operating, \\nmaintenance and energy costs while lowering environmental impact.\\nABB is the market’s leading supplier of \\nsynchronous motors and generators. All over the \\nworld our synchronous motors are delivering \\nsuperior performance in industrial processes, the \\nmarine and offshore industries, utilities, and \\nspecialized applications.\\nWe have been designing and manufacturing AC \\nmotors for mission-critical applications for more \\nthan 130 years, and our experience and \\napplication knowledge have made us the \\npreferred supplier in many different industries.\\nABB synchronous motors are based on modular \\nand standardized platforms. Working together \\nwith customers, we use our know-how of'),\n",
       " Document(metadata={'producer': 'Adobe PDF Library 15.0', 'creator': 'Adobe InDesign CC 14.0 (Macintosh)', 'creationdate': '2018-12-17T10:36:57+02:00', 'moddate': '2018-12-17T10:37:17+02:00', 'trapped': '/False', 'source': '..\\\\data\\\\pdf\\\\21120_ABB_Synchronous_motors.pdf', 'total_pages': 20, 'page': 3, 'page_label': '4', 'source_file': '21120_ABB_Synchronous_motors.pdf', 'file_type': 'pdf'}, page_content='preferred supplier in many different industries.\\nABB synchronous motors are based on modular \\nand standardized platforms. Working together \\nwith customers, we use our know-how of \\ndifferent applications to tailor cost-effective \\nsolutions. The flexible design concept enables us \\nto adapt motors for almost every kind of \\napplication.\\nWe offer predefined maintenance programs for \\nall lifetime phases of all ABB motors, and \\npreventive diagnosis and updates can help to \\nfurther boost your competitiveness when \\nneeded.\\nThe global ABB network ensures local service \\ndelivery whenever and wherever you need it. \\nAround the world we have over 60 service centers \\nand more than 150 authorized service providers \\nready to support you.'),\n",
       " Document(metadata={'producer': 'Adobe PDF Library 15.0', 'creator': 'Adobe InDesign CC 14.0 (Macintosh)', 'creationdate': '2018-12-17T10:36:57+02:00', 'moddate': '2018-12-17T10:37:17+02:00', 'trapped': '/False', 'source': '..\\\\data\\\\pdf\\\\21120_ABB_Synchronous_motors.pdf', 'total_pages': 20, 'page': 4, 'page_label': '5', 'source_file': '21120_ABB_Synchronous_motors.pdf', 'file_type': 'pdf'}, page_content='5\\n—\\nEfficiency and reliability  \\nfor a wide range of applications\\nMotors that match your needs\\nABB synchronous motors deliver efficient and reliable operation  \\nin a wide range of applications. We have a strong track record in tailoring \\nmotors to match customer needs across different industries.\\nExamples of industries and applications where our motors are operating include:\\n• Oil, gas and petrochemical: compressors, pumps, fans and extruders\\n• Marine and offshore: variable speed motors in azimuthing propulsors and shaft line applications\\n• Metals and minerals: rolling mills, hoists, processing lines, semi-autogenous grinding (SAG) mills, ball \\nmills and blowers\\n• Power utilities: pumps, fans and condensers\\n• Pulp and paper: chippers, refiners and grinders\\n• Water and wastewater: pumps\\n• Air separation: compressors\\n• Specialized applications: wind tunnel motors and motor-generator sets\\n—\\nWater and wastewater\\n—\\nAir separation\\n—\\nCement\\n—\\nOil, gas and petrochemical \\n—\\nMarine\\n—'),\n",
       " Document(metadata={'producer': 'Adobe PDF Library 15.0', 'creator': 'Adobe InDesign CC 14.0 (Macintosh)', 'creationdate': '2018-12-17T10:36:57+02:00', 'moddate': '2018-12-17T10:37:17+02:00', 'trapped': '/False', 'source': '..\\\\data\\\\pdf\\\\21120_ABB_Synchronous_motors.pdf', 'total_pages': 20, 'page': 4, 'page_label': '5', 'source_file': '21120_ABB_Synchronous_motors.pdf', 'file_type': 'pdf'}, page_content='• Air separation: compressors\\n• Specialized applications: wind tunnel motors and motor-generator sets\\n—\\nWater and wastewater\\n—\\nAir separation\\n—\\nCement\\n—\\nOil, gas and petrochemical \\n—\\nMarine\\n—\\nMetals and minerals\\n—\\nMining\\n—\\nPower generation\\n—\\nPulp and paper'),\n",
       " Document(metadata={'producer': 'Adobe PDF Library 15.0', 'creator': 'Adobe InDesign CC 14.0 (Macintosh)', 'creationdate': '2018-12-17T10:36:57+02:00', 'moddate': '2018-12-17T10:37:17+02:00', 'trapped': '/False', 'source': '..\\\\data\\\\pdf\\\\21120_ABB_Synchronous_motors.pdf', 'total_pages': 20, 'page': 5, 'page_label': '6', 'source_file': '21120_ABB_Synchronous_motors.pdf', 'file_type': 'pdf'}, page_content=\"6\\nSYNCHRONOUS MOTORS HIGH PERFORMANCE IN ALL APPLICATIONS\\n—\\nFixed and variable speed motors\\nTailored to application requirements\\nABB motor designs are always optimized for the specific application, ensuring  \\nthe correct starting method is used. The starting method is selected primarily on  \\nthe basis of customer requirements, network capability and process demands.\\nFixed speed motors\\nFixed speed synchronous motors are typically \\nused in applications like compressors, fans, \\npumps, wood grinders and refiners.\\nThe most commonly used starting methods for \\nfixed speed synchronous motors are direct-on-\\nline (DOL), reactor, autotransformer, load \\ncommutated inverter (LCI, 'soft starter'), \\ncapacitor and reactor capacitor.\\nVariable speed motors\\nVariable speed synchronous motors are often \\nused in demanding applications in process \\nindustries and in applications where variable \\nspeed delivers clear benefits. Rolling mills, mine \\nhoists, pumps and compressors are typical\"),\n",
       " Document(metadata={'producer': 'Adobe PDF Library 15.0', 'creator': 'Adobe InDesign CC 14.0 (Macintosh)', 'creationdate': '2018-12-17T10:36:57+02:00', 'moddate': '2018-12-17T10:37:17+02:00', 'trapped': '/False', 'source': '..\\\\data\\\\pdf\\\\21120_ABB_Synchronous_motors.pdf', 'total_pages': 20, 'page': 5, 'page_label': '6', 'source_file': '21120_ABB_Synchronous_motors.pdf', 'file_type': 'pdf'}, page_content='used in demanding applications in process \\nindustries and in applications where variable \\nspeed delivers clear benefits. Rolling mills, mine \\nhoists, pumps and compressors are typical \\nexamples of variable speed applications. \\nSynchronous motors with variable speed drives \\n(VSDs) are also commonly used in the main \\npropulsion system in ships. Optimized electrical \\ndrive systems with variable speed motors can \\nalso provide considerable energy savings in \\napplications like extruders, compressors and \\npumps.\\nWe supply motors and drives that meet torque \\nrequirements over the entire operating range, \\nfrom zero to maximum process speed. This \\nensures smooth starting, acceleration and \\noperation. We offer optimized ABB motor-drive \\npackages for the best possible variable speed \\nsolution. These consist of an ABB synchronous \\nmotor combined with an ABB load commutated \\ninverter or ABB voltage source inverter.\\nWe use our engineering and application know-'),\n",
       " Document(metadata={'producer': 'Adobe PDF Library 15.0', 'creator': 'Adobe InDesign CC 14.0 (Macintosh)', 'creationdate': '2018-12-17T10:36:57+02:00', 'moddate': '2018-12-17T10:37:17+02:00', 'trapped': '/False', 'source': '..\\\\data\\\\pdf\\\\21120_ABB_Synchronous_motors.pdf', 'total_pages': 20, 'page': 5, 'page_label': '6', 'source_file': '21120_ABB_Synchronous_motors.pdf', 'file_type': 'pdf'}, page_content='solution. These consist of an ABB synchronous \\nmotor combined with an ABB load commutated \\ninverter or ABB voltage source inverter.\\nWe use our engineering and application know-\\nhow to ensure that all the components in \\nelectrical drive packages, particularly the \\nconverter-motor interface, are optimally \\nintegrated to match the process. Benefits include \\nspecial converter-fed motor designs, increased \\nefficiency and improved torque production \\ncapabilities.\\nABB motor designs are always optimized for the \\ntype of converter that is most suitable for the \\napplication. Our motors can be combined with all \\ncommon converter types: load commutated \\ninverter (LCI), cycloconverter (C) and voltage \\nsource inverter (VSI).'),\n",
       " Document(metadata={'producer': 'Adobe PDF Library 15.0', 'creator': 'Adobe InDesign CC 14.0 (Macintosh)', 'creationdate': '2018-12-17T10:36:57+02:00', 'moddate': '2018-12-17T10:37:17+02:00', 'trapped': '/False', 'source': '..\\\\data\\\\pdf\\\\21120_ABB_Synchronous_motors.pdf', 'total_pages': 20, 'page': 6, 'page_label': '7', 'source_file': '21120_ABB_Synchronous_motors.pdf', 'file_type': 'pdf'}, page_content='7\\n—\\nOutput ranges of ABB synchronous motors (from 1 to 75 MW, 1 to 15 kV).\\nFixed spe ed motors\\n70\\n60\\n50\\n40\\n30\\n20\\n10\\n0\\n100 200 300 400 500 600 700 800 900 1000 1100 1200 1300 1400 1500 1600 1700 1800 1900 2000\\nSpeed (rpm)\\nOutput (MW)\\nAMZ 2500\\nAMZ 2000\\nAMZ 1600\\nAMZ 1250\\nAMZ 1120\\nAMZ 0900\\nAMZ 0710\\nAMS 1250\\nAMS 1120\\nAMS 1000\\nAMS 900\\nAMS 800\\nAMS 710\\n80\\nAMS 1400\\nVariable sp eed motors\\n50\\n40\\n30\\n20\\n10\\n0\\n100 200 300 400 500 600 700 800 900 1000 1100 1200 1300 1400 1500 1600 1700 1800 1900 2000\\nSpeed (rpm)\\nOutput (MW)\\n80\\n70\\n60\\nAMZ 2500\\nAMZ 2000\\nAMZ 1600\\nAMZ 1250\\nAMZ 1120\\nAMZ 0900\\nAMZ 0710\\nAMS 1250\\nAMS 1120\\nAMS 1000\\nAMS 900\\nAMS 800\\nAMS 710\\nAMS 1400\\n50\\n40\\n30\\n20\\n10\\n0\\n100 200 300 400 500 600 700 800 900 1000 1100 1200 1300 1400 1500 1600 1700 1800 1900 2000\\nSpeed (rpm)\\nOutput (MW)\\n80\\n70\\n60'),\n",
       " Document(metadata={'producer': 'Adobe PDF Library 15.0', 'creator': 'Adobe InDesign CC 14.0 (Macintosh)', 'creationdate': '2018-12-17T10:36:57+02:00', 'moddate': '2018-12-17T10:37:17+02:00', 'trapped': '/False', 'source': '..\\\\data\\\\pdf\\\\21120_ABB_Synchronous_motors.pdf', 'total_pages': 20, 'page': 7, 'page_label': '8', 'source_file': '21120_ABB_Synchronous_motors.pdf', 'file_type': 'pdf'}, page_content='8\\nSYNCHRONOUS MOTORS HIGH PERFORMANCE IN ALL APPLICATIONS\\n—\\nProven reliability\\nIncreased productivity for your operations\\nABB synchronous motors are renowned for their proven quality and reliability.  \\nRobust design ensures reliability through cool operating temperatures and  \\nlow vibration.\\nRotor\\nThe rotor plays a crucial part in achieving the best \\npossible electrical and mechanical performance.\\nHigher speed motors (four and six poles) have \\nsolid rotors with integrated poles made from a \\none-piece steel forging. A solid pole plate is \\nattached to the pole, a design that has good \\noverload capability and low harmonics. At the \\nsame time this rotor configuration contributes to \\nexcellent starting characteristics, high starting \\ntorque and low starting current.\\nThe large cooling surfaces and effective flow of \\ncooling air keep the rotor temperature low and \\nuniform, helping to ensure reliability and a long \\noperating life.\\nThe coils are class H insulated for extra thermal'),\n",
       " Document(metadata={'producer': 'Adobe PDF Library 15.0', 'creator': 'Adobe InDesign CC 14.0 (Macintosh)', 'creationdate': '2018-12-17T10:36:57+02:00', 'moddate': '2018-12-17T10:37:17+02:00', 'trapped': '/False', 'source': '..\\\\data\\\\pdf\\\\21120_ABB_Synchronous_motors.pdf', 'total_pages': 20, 'page': 7, 'page_label': '8', 'source_file': '21120_ABB_Synchronous_motors.pdf', 'file_type': 'pdf'}, page_content='cooling air keep the rotor temperature low and \\nuniform, helping to ensure reliability and a long \\noperating life.\\nThe coils are class H insulated for extra thermal \\nmargins. The rigid rotor construction and \\nminimum distance between bearings ensure that \\nthe motor operates below the first critical speed, \\nkeeping vibration levels low.\\nLower speed motors (eight or more poles) \\ntypically have rotors with the poles manufactured \\nfrom 2 mm laminated steel sheet. The sheets are \\npressed together with inserted steel bars which \\nare welded to the end plates.\\nFor lower speed motors the technically preferred \\noption is to vacuum pressure impregnate (VPI) \\nthe rotor assembly after it is wound to achieve \\nexcellent insulation and mechanical strength. \\nAfter impregnation, the complete rotor assembly \\nis dynamically checked for balance.\\nPermanent magnet poles are used in certain \\nvariable speed applications. Permanent magnet \\nrotors are straightforward constructions and do'),\n",
       " Document(metadata={'producer': 'Adobe PDF Library 15.0', 'creator': 'Adobe InDesign CC 14.0 (Macintosh)', 'creationdate': '2018-12-17T10:36:57+02:00', 'moddate': '2018-12-17T10:37:17+02:00', 'trapped': '/False', 'source': '..\\\\data\\\\pdf\\\\21120_ABB_Synchronous_motors.pdf', 'total_pages': 20, 'page': 8, 'page_label': '9', 'source_file': '21120_ABB_Synchronous_motors.pdf', 'file_type': 'pdf'}, page_content='9\\nnot need an excitation system. When necessary, \\nhigh pole numbers can be used in low speed \\napplications.\\nShaft\\nThe shaft is manufactured from forged or rolled \\nsteel and machined to exact specifications. The \\nshaft ends can be cylindrical, conical or flanged. Also \\ntwo shaft ends can be provided (double end drive).\\nRotor windings\\nThe rotor windings consist of either preformed \\nenameled rectangular copper wire or flat copper. \\nProper supports between adjacent windings \\nensure stability up to the rated overspeed.  \\nThe rotor windings are made to match (at the \\nminimum) the insulation class of the stator.  \\nThis ensures outstanding reliability and a long \\nservice life, even with asymmetric loads or under \\nexceptional conditions.\\nModular stator design\\nEach application has its own specific \\nrequirements in terms of motor performance. Our \\nmodular stator design allows us to precisely \\nmatch the performance of every ABB synchronous \\nmotor to the needs of its application.'),\n",
       " Document(metadata={'producer': 'Adobe PDF Library 15.0', 'creator': 'Adobe InDesign CC 14.0 (Macintosh)', 'creationdate': '2018-12-17T10:36:57+02:00', 'moddate': '2018-12-17T10:37:17+02:00', 'trapped': '/False', 'source': '..\\\\data\\\\pdf\\\\21120_ABB_Synchronous_motors.pdf', 'total_pages': 20, 'page': 8, 'page_label': '9', 'source_file': '21120_ABB_Synchronous_motors.pdf', 'file_type': 'pdf'}, page_content='requirements in terms of motor performance. Our \\nmodular stator design allows us to precisely \\nmatch the performance of every ABB synchronous \\nmotor to the needs of its application.\\nThe use of high grade core material increases \\nefficiency and reduces operating costs. Radial \\ncooling ducts ensure uniform and effective \\ncooling.\\nThe rigid stator construction transmits all forces \\nvia the frame to the foundation to minimize \\nvibrations. The windings are insulated with \\nmica-based tape. When the windings are in \\nplace, the complete stator undergoes vacuum \\npressure impregnation (VPI). The windings are \\nclass F insulated, which gives good thermal \\nmargins.'),\n",
       " Document(metadata={'producer': 'Adobe PDF Library 15.0', 'creator': 'Adobe InDesign CC 14.0 (Macintosh)', 'creationdate': '2018-12-17T10:36:57+02:00', 'moddate': '2018-12-17T10:37:17+02:00', 'trapped': '/False', 'source': '..\\\\data\\\\pdf\\\\21120_ABB_Synchronous_motors.pdf', 'total_pages': 20, 'page': 9, 'page_label': '10', 'source_file': '21120_ABB_Synchronous_motors.pdf', 'file_type': 'pdf'}, page_content='—\\nEffective cooling\\nThe wide range of available cooling methods ensures that you  \\ncan select the optimum system to match the motor’s operating  \\nand environmental conditions.\\nThe three most commonly used cooling methods \\nare air-to-water, air-to-air and open air. Whichever \\nmethod is chosen, it will provide effective cooling \\nof the complete motor.\\nAir-to-water closed circuit cooling\\nThe cooling air circulates in a closed circuit \\nthrough the active parts of the motor and then \\nthrough an air-to-water heat exchanger. This \\nmethod is especially recommended if cooling \\nwater is available nearby. It is an ideal solution for \\nsituations where closed circuit cooling is required \\ndue to installation outdoors or in a hazardous \\narea, or whenever the quality of the surrounding \\nair is not suitable for direct cooling. It is also a \\ngood choice for motors installed in machine \\nrooms with limited ventilation, such as on board \\nships or in pumping stations that are fully \\nenclosed.'),\n",
       " Document(metadata={'producer': 'Adobe PDF Library 15.0', 'creator': 'Adobe InDesign CC 14.0 (Macintosh)', 'creationdate': '2018-12-17T10:36:57+02:00', 'moddate': '2018-12-17T10:37:17+02:00', 'trapped': '/False', 'source': '..\\\\data\\\\pdf\\\\21120_ABB_Synchronous_motors.pdf', 'total_pages': 20, 'page': 9, 'page_label': '10', 'source_file': '21120_ABB_Synchronous_motors.pdf', 'file_type': 'pdf'}, page_content='good choice for motors installed in machine \\nrooms with limited ventilation, such as on board \\nships or in pumping stations that are fully \\nenclosed.\\nAir-to-air closed circuit cooling\\nThe cooling air circulates in a closed circuit \\nthrough the active parts of the motor and \\nthrough an air-to-air heat exchanger. This \\nsolution is generally used when a closed circuit \\ncooling system – such as air-to-water cooling – is \\nrequired but water is not readily available. An \\nadditional shaft-mounted or separate electric fan \\nis needed to ensure sufficient air flow through \\nthe cooler.\\nOpen air cooling\\nOpen air cooling can be used where the air in the \\nimmediate environment is relatively clean and \\nthere is adequate air circulation. The cooling air is \\ntypically drawn in through filters, passed through \\nthe active parts of the motor, and then exhausted \\nback to the environment. If the machine room \\nventilation system cannot compensate for the \\ntemperature gradient, the motor air outlet can be'),\n",
       " Document(metadata={'producer': 'Adobe PDF Library 15.0', 'creator': 'Adobe InDesign CC 14.0 (Macintosh)', 'creationdate': '2018-12-17T10:36:57+02:00', 'moddate': '2018-12-17T10:37:17+02:00', 'trapped': '/False', 'source': '..\\\\data\\\\pdf\\\\21120_ABB_Synchronous_motors.pdf', 'total_pages': 20, 'page': 9, 'page_label': '10', 'source_file': '21120_ABB_Synchronous_motors.pdf', 'file_type': 'pdf'}, page_content='the active parts of the motor, and then exhausted \\nback to the environment. If the machine room \\nventilation system cannot compensate for the \\ntemperature gradient, the motor air outlet can be \\nducted to exhaust the air outdoors.\\nEnclosure protection classes\\nAvailable protection classes are IP23, IP44, IP54, \\nIP55 or IP66, or NEMA equivalents. Motors can \\nalso be supplied for hazardous areas in \\naccordance with IEC/ATEX or NEC regulations \\n(increased safety or pressurized construction).\\n10\\nSYNCHRONOUS MOTORS HIGH PERFORMANCE IN ALL APPLICATIONS'),\n",
       " Document(metadata={'producer': 'Adobe PDF Library 15.0', 'creator': 'Adobe InDesign CC 14.0 (Macintosh)', 'creationdate': '2018-12-17T10:36:57+02:00', 'moddate': '2018-12-17T10:37:17+02:00', 'trapped': '/False', 'source': '..\\\\data\\\\pdf\\\\21120_ABB_Synchronous_motors.pdf', 'total_pages': 20, 'page': 10, 'page_label': '11', 'source_file': '21120_ABB_Synchronous_motors.pdf', 'file_type': 'pdf'}, page_content='—\\nBearings and accessories\\nHigh quality bearings\\nSelection of the optimal bearing makes a significant difference to reliability.\\nThe choice of optimal bearing arrangement and \\ntype is influenced by a number of factors. These \\ninclude customer requirements and operating \\nconditions like ambient temperature, air \\ncleanliness, vibration levels and possible shocks \\naffecting the bearings. Also radial and axial loads, \\nrotation speed, coupling type and the type of \\ndriven equipment should be taken into account.\\nABB synchronous motors use quality sleeve \\nbearings that withstand high levels of vibration \\nand offer great performance. The bearings \\nprovide the same outstanding reliability under \\nstatic and dynamic (radial and axial) loads. Their \\nexcellent heat transfer capability makes them \\nequally suitable for low and high speed \\napplications.\\nEnd-shield mounted bearings are always used in \\nhigher speed (four and six pole) motors. Pedestal \\nmounted bearings are generally used for the'),\n",
       " Document(metadata={'producer': 'Adobe PDF Library 15.0', 'creator': 'Adobe InDesign CC 14.0 (Macintosh)', 'creationdate': '2018-12-17T10:36:57+02:00', 'moddate': '2018-12-17T10:37:17+02:00', 'trapped': '/False', 'source': '..\\\\data\\\\pdf\\\\21120_ABB_Synchronous_motors.pdf', 'total_pages': 20, 'page': 10, 'page_label': '11', 'source_file': '21120_ABB_Synchronous_motors.pdf', 'file_type': 'pdf'}, page_content='equally suitable for low and high speed \\napplications.\\nEnd-shield mounted bearings are always used in \\nhigher speed (four and six pole) motors. Pedestal \\nmounted bearings are generally used for the \\nlargest frame sizes of lower speed motors. Motors \\nwith pedestal bearings are as easy to mount and \\nalign as those with end-shield mounted bearings. \\nThe motors are normally delivered ready \\nassembled and require no further assembly on \\nsite. Separate pedestal bearing motors are often \\nmounted on a common base frame.\\nSleeve bearings last as long as the expected \\nlifetime of the motor, provided that the operating \\nconditions and maintenance intervals are as \\nspecified. The bearing housing is designed to \\npermit easy access for inspection and \\nmaintenance. The bearings are insulated from the \\nmotor frame to eliminate circulating currents in \\nthe shaft, and the shaft can be earthed. The \\nbearings are sealed against oil leakage with \\nlabyrinth seals. Sleeve bearings are designed to'),\n",
       " Document(metadata={'producer': 'Adobe PDF Library 15.0', 'creator': 'Adobe InDesign CC 14.0 (Macintosh)', 'creationdate': '2018-12-17T10:36:57+02:00', 'moddate': '2018-12-17T10:37:17+02:00', 'trapped': '/False', 'source': '..\\\\data\\\\pdf\\\\21120_ABB_Synchronous_motors.pdf', 'total_pages': 20, 'page': 10, 'page_label': '11', 'source_file': '21120_ABB_Synchronous_motors.pdf', 'file_type': 'pdf'}, page_content='motor frame to eliminate circulating currents in \\nthe shaft, and the shaft can be earthed. The \\nbearings are sealed against oil leakage with \\nlabyrinth seals. Sleeve bearings are designed to \\nbe insensitive to misalignment and to permit \\nlarge axial play.\\nLubrication\\nIn some cases the bearings are self-lubricated by \\nmeans of an oil ring, which picks up the \\nlubricating oil and transfers it directly to the \\nshaft, forming an independent and highly reliable \\nlubrication system.\\nIn applications involving large loads, high speeds, \\nhigh ambient temperature or where the motor is \\nmounted in an inclined position, an external oil \\ncooling and circulation system may be necessary, \\nunless the oil is supplied directly from the \\nlubrication system of the driven equipment. In \\ncertain applications which run at slow speeds, a \\njack-up system may be required  for starting and \\nslow turning.\\nHydrostatic jacking oil systems are available for \\nlow-speed applications and, in specific'),\n",
       " Document(metadata={'producer': 'Adobe PDF Library 15.0', 'creator': 'Adobe InDesign CC 14.0 (Macintosh)', 'creationdate': '2018-12-17T10:36:57+02:00', 'moddate': '2018-12-17T10:37:17+02:00', 'trapped': '/False', 'source': '..\\\\data\\\\pdf\\\\21120_ABB_Synchronous_motors.pdf', 'total_pages': 20, 'page': 10, 'page_label': '11', 'source_file': '21120_ABB_Synchronous_motors.pdf', 'file_type': 'pdf'}, page_content='jack-up system may be required  for starting and \\nslow turning.\\nHydrostatic jacking oil systems are available for \\nlow-speed applications and, in specific \\nsituations, for use during motor start-up and shut \\ndown.\\nAccessories\\nWe offer a broad selection of accessories, \\nincluding devices and equipment for measuring, \\nprotection, termination, lubrication and \\nmounting of the motor. Typical examples are PT-\\n100 sensors, earth fault protection relays, surge \\narrestors, current transformers, rotor \\ntelemetrics, sole plates and anchor bolts.\\nA separate main terminal box is mounted on the \\nside of the motor, featuring bus bars outside the \\nmotor frame and allowing connections from any \\ndirection.\\n11'),\n",
       " Document(metadata={'producer': 'Adobe PDF Library 15.0', 'creator': 'Adobe InDesign CC 14.0 (Macintosh)', 'creationdate': '2018-12-17T10:36:57+02:00', 'moddate': '2018-12-17T10:37:17+02:00', 'trapped': '/False', 'source': '..\\\\data\\\\pdf\\\\21120_ABB_Synchronous_motors.pdf', 'total_pages': 20, 'page': 11, 'page_label': '12', 'source_file': '21120_ABB_Synchronous_motors.pdf', 'file_type': 'pdf'}, page_content='12\\nSYNCHRONOUS MOTORS HIGH PERFORMANCE IN ALL APPLICATIONS\\n—\\nRobust frame\\nLow vibration\\nRobust frame ensures great stability and optimum dynamic behavior.\\nFor maximum flexibility, ABB synchronous motors \\nare designed for horizontal, inclined or vertical \\nmounting. Vertical mounting is available for \\nmotors with eight or more poles.\\nThe robust frame transfers dynamic and static \\nstresses directly to the foundation, reducing \\nvibration and contributing to the overall excellent \\nperformance of the motor.\\nWe can supply motors – even up to the largest \\nsizes and outputs – as complete, ready-to-install \\nunits. This means that no further on-site \\nassembly is needed, which substantially reduces \\ninstallation times and cuts the risk that \\nsomething could go wrong during installation.\\nOur R&D team works closely with manufacturers \\nof driven equipment, using finite element method \\n(FEM) and dynamic animation techniques, to \\nanalyze vibration models, test critical parts and'),\n",
       " Document(metadata={'producer': 'Adobe PDF Library 15.0', 'creator': 'Adobe InDesign CC 14.0 (Macintosh)', 'creationdate': '2018-12-17T10:36:57+02:00', 'moddate': '2018-12-17T10:37:17+02:00', 'trapped': '/False', 'source': '..\\\\data\\\\pdf\\\\21120_ABB_Synchronous_motors.pdf', 'total_pages': 20, 'page': 11, 'page_label': '12', 'source_file': '21120_ABB_Synchronous_motors.pdf', 'file_type': 'pdf'}, page_content='Our R&D team works closely with manufacturers \\nof driven equipment, using finite element method \\n(FEM) and dynamic animation techniques, to \\nanalyze vibration models, test critical parts and \\nverify that harmful mechanical resonances will \\nnot occur in the motor.\\nCorrosion protection\\nOur motors are designed and built to withstand \\nthe relevant environmental conditions. All \\nsurfaces made of steel, aluminum alloy or cast \\niron are treated in accordance with the chosen \\npaint system. Selection of a suitable paint system \\ngives reliable anti-corrosion protection even \\nunder the most severe environmental conditions. \\nFor moderate indoor conditions the standard \\nfinish is moisture-proof in accordance with the \\nrelevant standards.'),\n",
       " Document(metadata={'producer': 'Adobe PDF Library 15.0', 'creator': 'Adobe InDesign CC 14.0 (Macintosh)', 'creationdate': '2018-12-17T10:36:57+02:00', 'moddate': '2018-12-17T10:37:17+02:00', 'trapped': '/False', 'source': '..\\\\data\\\\pdf\\\\21120_ABB_Synchronous_motors.pdf', 'total_pages': 20, 'page': 12, 'page_label': '13', 'source_file': '21120_ABB_Synchronous_motors.pdf', 'file_type': 'pdf'}, page_content='13\\n—\\nExcitation\\nThe right excitation method  \\nfor every application\\nWe ensure that the excitation system matches the outstanding reliability \\nof our motors.\\nFor fixed speed applications and variable speed \\napplications with less demanding dynamic \\ncontrol requirements, a brushless exciter and \\nautomatic voltage regulator are typical options. \\nFor AMS motors, PLC-based regulator is typically \\nused. The brushless system has no wearing parts, \\nand the external excitation power requirement is \\nlow. \\nThe advanced and yet straightforward design has \\na low component count and effective protection \\nfunctions, offering high reliability and easy \\naccess for maintenance.\\nFor variable speed applications where very fast \\nand accurate speed or torque control are \\nrequired, the motor is typically equipped with \\nbrushes and a slip-ring unit to allow excitation \\nand control of the motor from the frequency \\nconverter.\\nHigher speed motors (four and six poles) use a'),\n",
       " Document(metadata={'producer': 'Adobe PDF Library 15.0', 'creator': 'Adobe InDesign CC 14.0 (Macintosh)', 'creationdate': '2018-12-17T10:36:57+02:00', 'moddate': '2018-12-17T10:37:17+02:00', 'trapped': '/False', 'source': '..\\\\data\\\\pdf\\\\21120_ABB_Synchronous_motors.pdf', 'total_pages': 20, 'page': 12, 'page_label': '13', 'source_file': '21120_ABB_Synchronous_motors.pdf', 'file_type': 'pdf'}, page_content='brushes and a slip-ring unit to allow excitation \\nand control of the motor from the frequency \\nconverter.\\nHigher speed motors (four and six poles) use a \\ncompact, brushless exciter unit mounted on the \\nrotor shaft outboard of the bearings. No \\nindependent support or alignment is required. \\nThe high level of field forcing delivers improved \\nsystem performance, which increases the \\nproduction of reactive power and is beneficial \\nwhen faults arise in the supply network.\\nLower speed motors (eight or more poles) \\ntypically have a brushless exciter unit mounted \\ninside the motor enclosure.\\nExcitation control\\nThe motor excitation control panel is supplied in a \\nvariety of basic formats. It houses the excitation \\nequipment, protection system and logic \\nfunctions for starting. We offer a wide range of \\ninstrumentation and control equipment to \\nprotect synchronous motors and ensure excellent \\nreliability, availability and extended product \\nlifetime.'),\n",
       " Document(metadata={'producer': 'Adobe PDF Library 15.0', 'creator': 'Adobe InDesign CC 14.0 (Macintosh)', 'creationdate': '2018-12-17T10:36:57+02:00', 'moddate': '2018-12-17T10:37:17+02:00', 'trapped': '/False', 'source': '..\\\\data\\\\pdf\\\\21120_ABB_Synchronous_motors.pdf', 'total_pages': 20, 'page': 13, 'page_label': '14', 'source_file': '21120_ABB_Synchronous_motors.pdf', 'file_type': 'pdf'}, page_content='14\\nSYNCHRONOUS MOTORS HIGH PERFORMANCE IN ALL APPLICATIONS\\n—\\nProven insulation system\\nHigh reliability, long lifetime\\nInsulation is crucial for overall reliability.\\nABB has used the Micadur® Compact Industry \\n(MCI) insulation system for several decades, and \\nit has gone into tens of thousands of large \\nmotors and generators. Over this time, there have \\nbeen no known primary insulation failures due to \\nthermal aging. Thermal lifetime tests confirm \\nthat the endurance of the MCI system \\ncomfortably exceeds the requirements of \\nInternational Electrotechnical Commission (IEC) \\nand Institute of Electrical and Electronics \\nEngineers (IEEE) standards.\\nThe MCI insulation system is based on vacuum \\npressure impregnation (VPI) of mica materials. A \\nspecially formulated epoxy resin is used to \\nproduce a sealed and homogenous insulation \\nsystem with good performance in terms of \\ndielectric strength, heat transfer and elimination \\nof partial discharge - factors that promote great'),\n",
       " Document(metadata={'producer': 'Adobe PDF Library 15.0', 'creator': 'Adobe InDesign CC 14.0 (Macintosh)', 'creationdate': '2018-12-17T10:36:57+02:00', 'moddate': '2018-12-17T10:37:17+02:00', 'trapped': '/False', 'source': '..\\\\data\\\\pdf\\\\21120_ABB_Synchronous_motors.pdf', 'total_pages': 20, 'page': 13, 'page_label': '14', 'source_file': '21120_ABB_Synchronous_motors.pdf', 'file_type': 'pdf'}, page_content='produce a sealed and homogenous insulation \\nsystem with good performance in terms of \\ndielectric strength, heat transfer and elimination \\nof partial discharge - factors that promote great \\nreliability. Testing of the insulation system \\nincludes close monitoring of the impregnation \\nprocess, curing times and pressure levels.\\nThe systematic VPI process is highly effective. \\nAfter VPI is completed, stators and rotors are \\ncured in an oven at high temperature, producing \\nvery strong and stable insulation with high \\nmechanical and electrical strength. This is \\nespecially important in order to resist inadvertent \\nhigh stresses from out-of-phase synchronization, \\ntransients and short circuits.\\nEven the largest wound stators are impregnated \\nas complete units, ensuring that both the \\ninsulation and the mechanical properties of the \\nwindings are excellent. This means that they can \\nwithstand vibrations induced by the driven \\nequipment and the mechanical stresses caused'),\n",
       " Document(metadata={'producer': 'Adobe PDF Library 15.0', 'creator': 'Adobe InDesign CC 14.0 (Macintosh)', 'creationdate': '2018-12-17T10:36:57+02:00', 'moddate': '2018-12-17T10:37:17+02:00', 'trapped': '/False', 'source': '..\\\\data\\\\pdf\\\\21120_ABB_Synchronous_motors.pdf', 'total_pages': 20, 'page': 13, 'page_label': '14', 'source_file': '21120_ABB_Synchronous_motors.pdf', 'file_type': 'pdf'}, page_content='insulation and the mechanical properties of the \\nwindings are excellent. This means that they can \\nwithstand vibrations induced by the driven \\nequipment and the mechanical stresses caused \\nby transients such as short circuits.\\nMedium and high voltage windings up to 15,000 V \\nare made of form wound rectangular copper wire \\ninsulated with multiple layers of glass-fiber \\nreinforced mica-tape. All the materials used, \\nincluding the VPI resin, exceed the requirements \\nof thermal class F.'),\n",
       " Document(metadata={'producer': 'Adobe PDF Library 15.0', 'creator': 'Adobe InDesign CC 14.0 (Macintosh)', 'creationdate': '2018-12-17T10:36:57+02:00', 'moddate': '2018-12-17T10:37:17+02:00', 'trapped': '/False', 'source': '..\\\\data\\\\pdf\\\\21120_ABB_Synchronous_motors.pdf', 'total_pages': 20, 'page': 14, 'page_label': '15', 'source_file': '21120_ABB_Synchronous_motors.pdf', 'file_type': 'pdf'}, page_content='15\\n—\\nTesting\\nThree levels of testing\\nEach motor is thoroughly tested before it leaves the factory.\\nDuring manufacturing, our motors typically pass \\nthrough more than 50 separate quality control \\npoints comprising hundreds of individual \\ninspections. In addition, components and \\nassemblies constantly undergo quality \\nmonitoring, inspections, reliability evaluations \\nand other tests as they progress through the \\nmanufacturing process.\\nFactory Acceptance Testing (FAT) is the final, \\ncomprehensive set of tests that every motor \\nmust pass before it leaves the plant. FAT verifies \\nthat the motor meets the customer’s \\nspecifications and application requirements. The \\nresults are compiled in a report that is supplied \\ntogether with the motor. Customers can attend \\nthe tests in person. For tests at the Helsinki \\nfactory we also offer the option of attending the \\ntests via our online FAT system.\\n \\nOur test field is fully equipped to perform three \\nseparate levels of testing, and we can also run'),\n",
       " Document(metadata={'producer': 'Adobe PDF Library 15.0', 'creator': 'Adobe InDesign CC 14.0 (Macintosh)', 'creationdate': '2018-12-17T10:36:57+02:00', 'moddate': '2018-12-17T10:37:17+02:00', 'trapped': '/False', 'source': '..\\\\data\\\\pdf\\\\21120_ABB_Synchronous_motors.pdf', 'total_pages': 20, 'page': 14, 'page_label': '15', 'source_file': '21120_ABB_Synchronous_motors.pdf', 'file_type': 'pdf'}, page_content='factory we also offer the option of attending the \\ntests via our online FAT system.\\n \\nOur test field is fully equipped to perform three \\nseparate levels of testing, and we can also run \\ncombined tests with the customer’s own variable \\nspeed drive (VSD) and transformer.\\nThe insulation system is tested at full-voltage \\nlevels. Unless otherwise specified, testing is \\nperformed according to the IEC 60034 standard. \\nTesting according to classification society \\nrequirements can also be done.\\n—\\nThree levels of testing\\n1. Routine tests\\n• performed on all motors\\n3. Special tests\\n• may be conducted to verify performance in special conditions, eg, to verify compliance with \\ncustomer specifications regarding noise or vibration\\n• could also be done with regard to hazardous area or marine classification society requirements\\n2. Type tests\\n• done in addition to routine tests\\n• normally performed on one motor in a series that has not been previously manufactured'),\n",
       " Document(metadata={'producer': 'Adobe PDF Library 15.0', 'creator': 'Adobe InDesign CC 14.0 (Macintosh)', 'creationdate': '2018-12-17T10:36:57+02:00', 'moddate': '2018-12-17T10:37:17+02:00', 'trapped': '/False', 'source': '..\\\\data\\\\pdf\\\\21120_ABB_Synchronous_motors.pdf', 'total_pages': 20, 'page': 14, 'page_label': '15', 'source_file': '21120_ABB_Synchronous_motors.pdf', 'file_type': 'pdf'}, page_content='2. Type tests\\n• done in addition to routine tests\\n• normally performed on one motor in a series that has not been previously manufactured\\n• can also be undertaken at the customer’s request'),\n",
       " Document(metadata={'producer': 'Adobe PDF Library 15.0', 'creator': 'Adobe InDesign CC 14.0 (Macintosh)', 'creationdate': '2018-12-17T10:36:57+02:00', 'moddate': '2018-12-17T10:37:17+02:00', 'trapped': '/False', 'source': '..\\\\data\\\\pdf\\\\21120_ABB_Synchronous_motors.pdf', 'total_pages': 20, 'page': 15, 'page_label': '16', 'source_file': '21120_ABB_Synchronous_motors.pdf', 'file_type': 'pdf'}, page_content='16\\nSYNCHRONOUS MOTORS HIGH PERFORMANCE IN ALL APPLICATIONS\\n—\\nLife cycle services and support\\nFrom pre-purchase to migration and upgrades\\nABB offers a complete portfolio of services to ensure trouble-free operation and long \\nproduct lifetimes. These services cover the entire life cycle. Local support is provided \\nthrough a global network of ABB service centers and certified partners.\\nPre-purchase\\nABB’s front-end sales organization can help \\ncustomers to quickly and efficiently select, \\nconfigure and optimize the right motor for \\ntheir application.\\nInstallation and commissioning\\nProfessional installation and commissioning by \\nABB’s certified engineers represent an investment \\nin availability and reliability over the entire life cycle. \\nEngineering and consulting \\nABB’s experts provide energy efficiency and \\nreliability appraisals, advanced condition and \\nperformance assessments and technical studies. \\nCondition Monitoring and Diagnosis\\nABB’s unique services deliver early warnings'),\n",
       " Document(metadata={'producer': 'Adobe PDF Library 15.0', 'creator': 'Adobe InDesign CC 14.0 (Macintosh)', 'creationdate': '2018-12-17T10:36:57+02:00', 'moddate': '2018-12-17T10:37:17+02:00', 'trapped': '/False', 'source': '..\\\\data\\\\pdf\\\\21120_ABB_Synchronous_motors.pdf', 'total_pages': 20, 'page': 15, 'page_label': '16', 'source_file': '21120_ABB_Synchronous_motors.pdf', 'file_type': 'pdf'}, page_content='reliability appraisals, advanced condition and \\nperformance assessments and technical studies. \\nCondition Monitoring and Diagnosis\\nABB’s unique services deliver early warnings \\nof developing problems before failures occur. \\nThe required data can be collected by an engineer \\nduring a site visit or by means of remote monitoring \\nsolutions. Integration into the ABB Ability™ platform means \\nthe data can be transmitted to the cloud and accessed and \\nanalyzed remotely, allowing even greater insight into the \\nhealth of the equipment. The services focus on critical areas \\nlike the bearings, rotor winding, stator winding insulation \\nand overall mechanical condition.\\nMaintenance and field services\\nABB offers life cycle management plans and \\npreventive maintenance products. \\nThe recommended four-level maintenance \\nprogram covers the entire product lifetime.\\nSpare parts\\nSpare parts and support are offered throughout \\nthe life cycle of ABB products. In addition to'),\n",
       " Document(metadata={'producer': 'Adobe PDF Library 15.0', 'creator': 'Adobe InDesign CC 14.0 (Macintosh)', 'creationdate': '2018-12-17T10:36:57+02:00', 'moddate': '2018-12-17T10:37:17+02:00', 'trapped': '/False', 'source': '..\\\\data\\\\pdf\\\\21120_ABB_Synchronous_motors.pdf', 'total_pages': 20, 'page': 15, 'page_label': '16', 'source_file': '21120_ABB_Synchronous_motors.pdf', 'file_type': 'pdf'}, page_content='The recommended four-level maintenance \\nprogram covers the entire product lifetime.\\nSpare parts\\nSpare parts and support are offered throughout \\nthe life cycle of ABB products. In addition to \\nindividual spares, tailored spare part packages \\nare also available.\\nRepair and refurbishment\\nSupport for all ABB motors and other \\nbrands is provided by ABB’s global service \\norganization. Specialist teams can also deliver \\nemergency support. \\nMigration and upgrades\\nLife cycle audits determine the optimum \\nupgrades and migration paths. Upgrades \\nrange from individual components to direct \\nreplacement motors. \\nTraining\\nProduct and service training courses take a \\npractical approach. The training ranges from \\nstandard courses to specially tailored programs \\nto suit customer requirements. \\nSpecialized support \\nSpecialized support is offered through ABB’s \\nglobal service organization. Local units provide \\nmajor and minor repairs as well as overhauls \\nand reconditioning.\\nService contracts'),\n",
       " Document(metadata={'producer': 'Adobe PDF Library 15.0', 'creator': 'Adobe InDesign CC 14.0 (Macintosh)', 'creationdate': '2018-12-17T10:36:57+02:00', 'moddate': '2018-12-17T10:37:17+02:00', 'trapped': '/False', 'source': '..\\\\data\\\\pdf\\\\21120_ABB_Synchronous_motors.pdf', 'total_pages': 20, 'page': 15, 'page_label': '16', 'source_file': '21120_ABB_Synchronous_motors.pdf', 'file_type': 'pdf'}, page_content='Specialized support is offered through ABB’s \\nglobal service organization. Local units provide \\nmajor and minor repairs as well as overhauls \\nand reconditioning.\\nService contracts\\nService contracts are tailored to the customer’s \\nneeds. The contracts combine ABB’s entire service \\nportfolio and 130 years of experience to deploy \\nthe optimal service practices.'),\n",
       " Document(metadata={'producer': 'Adobe PDF Library 15.0', 'creator': 'Adobe InDesign CC 14.0 (Macintosh)', 'creationdate': '2018-12-17T10:36:57+02:00', 'moddate': '2018-12-17T10:37:17+02:00', 'trapped': '/False', 'source': '..\\\\data\\\\pdf\\\\21120_ABB_Synchronous_motors.pdf', 'total_pages': 20, 'page': 16, 'page_label': '17', 'source_file': '21120_ABB_Synchronous_motors.pdf', 'file_type': 'pdf'}, page_content='17\\nIEC motors\\n• Low voltage motors\\n• High voltage induction and synchronous  \\nmotors\\n• Marine motors\\n• Motors for explosive atmospheres\\n• Motors for food and beverage\\n• Motors for variable speed drives\\n• Permanent magnet motors\\n• Synchronous reluctance motors\\n• Traction motors\\nNEMA motors\\n• Low voltage motors\\n• High voltage induction and synchronous  \\nmotors\\n• Marine motors\\n• Motors for explosive atmospheres\\n• Motors for variable speed drives\\n• Permanent magnet motors\\n• Servomotors\\n• Washdown motors\\nGenerators\\n• Generators for wind turbines\\n• Generators for diesel and gas engine power \\nplants\\n• Generators for steam and gas turbine power \\nplants\\n• Generators for marine applications\\n• Generators for industrial applications\\n• Generators for traction applications\\n• Synchronous condensers for reactive power \\ncompensation\\nMechanical power transmission components, \\nbearings, gearings\\n• Mounted bearings\\n• Enclosed gearing\\n• Mechanical drive components\\n• Couplings\\n• Sheaves and bushings'),\n",
       " Document(metadata={'producer': 'Adobe PDF Library 15.0', 'creator': 'Adobe InDesign CC 14.0 (Macintosh)', 'creationdate': '2018-12-17T10:36:57+02:00', 'moddate': '2018-12-17T10:37:17+02:00', 'trapped': '/False', 'source': '..\\\\data\\\\pdf\\\\21120_ABB_Synchronous_motors.pdf', 'total_pages': 20, 'page': 16, 'page_label': '17', 'source_file': '21120_ABB_Synchronous_motors.pdf', 'file_type': 'pdf'}, page_content='compensation\\nMechanical power transmission components, \\nbearings, gearings\\n• Mounted bearings\\n• Enclosed gearing\\n• Mechanical drive components\\n• Couplings\\n• Sheaves and bushings\\n• Conveyor components\\n• Geared motor units\\nLife cycle services\\n—\\nTotal product offering\\nABB offers a wide range of motors, generators and mechanical power \\ntransmission products with a complete portfolio of services.'),\n",
       " Document(metadata={'producer': 'Adobe PDF Library 15.0', 'creator': 'Adobe InDesign CC 14.0 (Macintosh)', 'creationdate': '2018-12-17T10:36:57+02:00', 'moddate': '2018-12-17T10:37:17+02:00', 'trapped': '/False', 'source': '..\\\\data\\\\pdf\\\\21120_ABB_Synchronous_motors.pdf', 'total_pages': 20, 'page': 17, 'page_label': '18', 'source_file': '21120_ABB_Synchronous_motors.pdf', 'file_type': 'pdf'}, page_content='18\\nSYNCHRONOUS MOTORS HIGH PERFORMANCE IN ALL APPLICATIONS\\n—\\nNotes'),\n",
       " Document(metadata={'producer': 'Adobe PDF Library 15.0', 'creator': 'Adobe InDesign CC 14.0 (Macintosh)', 'creationdate': '2018-12-17T10:36:57+02:00', 'moddate': '2018-12-17T10:37:17+02:00', 'trapped': '/False', 'source': '..\\\\data\\\\pdf\\\\21120_ABB_Synchronous_motors.pdf', 'total_pages': 20, 'page': 19, 'page_label': 'U2', 'source_file': '21120_ABB_Synchronous_motors.pdf', 'file_type': 'pdf'}, page_content='9AKK105576 EN 12-2018\\n© Copyright 2018 ABB. All rights reserved. \\nSpecifications subject to change without notice.\\n—\\nFor more information and contact details: \\nabb.com/motors&generators')]"
      ]
     },
     "execution_count": 9,
     "metadata": {},
     "output_type": "execute_result"
    }
   ],
   "source": [
    "chunks"
   ]
  },
  {
   "cell_type": "code",
   "execution_count": null,
   "id": "5bde24ed",
   "metadata": {},
   "outputs": [
    {
     "name": "stdout",
     "output_type": "stream",
     "text": [
      "Generating embeddings for 40 texts...\n"
     ]
    },
    {
     "name": "stderr",
     "output_type": "stream",
     "text": [
      "Batches: 100%|██████████| 2/2 [00:01<00:00,  1.14it/s]\n"
     ]
    },
    {
     "name": "stdout",
     "output_type": "stream",
     "text": [
      "Generated embeddings with shape: (40, 384)\n",
      "Adding 40 documents to vector store...\n",
      "Successfully added 40 documents to vector store\n",
      "Total documents in collection: 40\n"
     ]
    }
   ],
   "source": [
    "### Convert the text to embeddings\n",
    "texts=[doc.page_content for doc in chunks]\n",
    "\n",
    "## Generate the Embeddings\n",
    "\n",
    "embeddings=embedding_manager.generate_embeddings(texts)\n",
    "\n",
    "##store int he vector dtaabase\n",
    "vectorstore.add_documents(chunks,embeddings)"
   ]
  },
  {
   "cell_type": "markdown",
   "id": "498acd10",
   "metadata": {},
   "source": [
    "### Retriever Pipeline From VectorStore"
   ]
  },
  {
   "cell_type": "code",
   "execution_count": null,
   "id": "0f7b0ee2",
   "metadata": {},
   "outputs": [],
   "source": [
    "class RAGRetriever:\n",
    "    \"\"\"Handles query-based retrieval from the vector store\"\"\"\n",
    "    \n",
    "    def __init__(self, vector_store: VectorStore, embedding_manager: EmbeddingManager):\n",
    "        \"\"\"\n",
    "        Initialize the retriever\n",
    "        \n",
    "        Args:\n",
    "            vector_store: Vector store containing document embeddings\n",
    "            embedding_manager: Manager for generating query embeddings\n",
    "        \"\"\"\n",
    "        self.vector_store = vector_store\n",
    "        self.embedding_manager = embedding_manager\n",
    "\n",
    "    def retrieve(self, query: str, top_k: int = 5, score_threshold: float = 0.0) -> List[Dict[str, Any]]:\n",
    "        \"\"\"\n",
    "        Retrieve relevant documents for a query\n",
    "        \n",
    "        Args:\n",
    "            query: The search query\n",
    "            top_k: Number of top results to return\n",
    "            score_threshold: Minimum similarity score threshold\n",
    "            \n",
    "        Returns:\n",
    "            List of dictionaries containing retrieved documents and metadata\n",
    "        \"\"\"\n",
    "        print(f\"Retrieving documents for query: '{query}'\")\n",
    "        print(f\"Top K: {top_k}, Score threshold: {score_threshold}\")\n",
    "        \n",
    "        # Generate query embedding\n",
    "        query_embedding = self.embedding_manager.generate_embeddings([query])[0]\n",
    "        \n",
    "        # Search in vector store\n",
    "        try:\n",
    "            results = self.vector_store.collection.query(\n",
    "                query_embeddings=[query_embedding.tolist()],\n",
    "                n_results=top_k\n",
    "            )\n",
    "            \n",
    "            # Process results\n",
    "            retrieved_docs = []\n",
    "            \n",
    "            if results['documents'] and results['documents'][0]:\n",
    "                documents = results['documents'][0]\n",
    "                metadatas = results['metadatas'][0]\n",
    "                distances = results['distances'][0]\n",
    "                ids = results['ids'][0]\n",
    "                \n",
    "                for i, (doc_id, document, metadata, distance) in enumerate(zip(ids, documents, metadatas, distances)):\n",
    "                    # Convert distance to similarity score (ChromaDB uses cosine distance)\n",
    "                    similarity_score = 1 - distance\n",
    "                    \n",
    "                    if similarity_score >= score_threshold:\n",
    "                        retrieved_docs.append({\n",
    "                            'id': doc_id,\n",
    "                            'content': document,\n",
    "                            'metadata': metadata,\n",
    "                            'similarity_score': similarity_score,\n",
    "                            'distance': distance,\n",
    "                            'rank': i + 1\n",
    "                        })\n",
    "                \n",
    "                print(f\"Retrieved {len(retrieved_docs)} documents (after filtering)\")\n",
    "            else:\n",
    "                print(\"No documents found\")\n",
    "            \n",
    "            return retrieved_docs\n",
    "            \n",
    "        except Exception as e:\n",
    "            print(f\"Error during retrieval: {e}\")\n",
    "            return []\n",
    "\n",
    "rag_retriever=RAGRetriever(vectorstore,embedding_manager)\n",
    "\n"
   ]
  },
  {
   "cell_type": "code",
   "execution_count": null,
   "id": "351730b4",
   "metadata": {},
   "outputs": [
    {
     "data": {
      "text/plain": [
       "<__main__.RAGRetriever at 0x1ed93fb2510>"
      ]
     },
     "execution_count": 12,
     "metadata": {},
     "output_type": "execute_result"
    }
   ],
   "source": [
    "rag_retriever"
   ]
  },
  {
   "cell_type": "code",
   "execution_count": null,
   "id": "f7e78529",
   "metadata": {},
   "outputs": [
    {
     "name": "stdout",
     "output_type": "stream",
     "text": [
      "Retrieving documents for query: 'what is Supply Chain Research'\n",
      "Top K: 5, Score threshold: 0.0\n",
      "Generating embeddings for 1 texts...\n"
     ]
    },
    {
     "name": "stderr",
     "output_type": "stream",
     "text": [
      "Batches: 100%|██████████| 1/1 [00:00<00:00, 75.96it/s]"
     ]
    },
    {
     "name": "stdout",
     "output_type": "stream",
     "text": [
      "Generated embeddings with shape: (1, 384)\n",
      "Retrieved 0 documents (after filtering)\n"
     ]
    },
    {
     "name": "stderr",
     "output_type": "stream",
     "text": [
      "\n"
     ]
    },
    {
     "data": {
      "text/plain": [
       "[]"
      ]
     },
     "execution_count": 13,
     "metadata": {},
     "output_type": "execute_result"
    }
   ],
   "source": [
    "rag_retriever.retrieve(\"what is Supply Chain Research\")"
   ]
  },
  {
   "cell_type": "code",
   "execution_count": null,
   "id": "8d8141ee",
   "metadata": {},
   "outputs": [
    {
     "name": "stdout",
     "output_type": "stream",
     "text": [
      "Retrieving documents for query: 'what is supply chain management'\n",
      "Top K: 5, Score threshold: 0.0\n",
      "Generating embeddings for 1 texts...\n"
     ]
    },
    {
     "name": "stderr",
     "output_type": "stream",
     "text": [
      "Batches: 100%|██████████| 1/1 [00:00<00:00, 63.91it/s]"
     ]
    },
    {
     "name": "stdout",
     "output_type": "stream",
     "text": [
      "Generated embeddings with shape: (1, 384)\n",
      "Retrieved 0 documents (after filtering)\n"
     ]
    },
    {
     "name": "stderr",
     "output_type": "stream",
     "text": [
      "\n"
     ]
    },
    {
     "data": {
      "text/plain": [
       "[]"
      ]
     },
     "execution_count": 14,
     "metadata": {},
     "output_type": "execute_result"
    }
   ],
   "source": [
    "rag_retriever.retrieve(\"what is supply chain management\")\n"
   ]
  },
  {
   "cell_type": "markdown",
   "id": "ce23783e",
   "metadata": {},
   "source": [
    "### RAG Pipeline- VectorDB To LLM Output Generation"
   ]
  },
  {
   "cell_type": "code",
   "execution_count": null,
   "id": "449a65c4",
   "metadata": {},
   "outputs": [
    {
     "name": "stdout",
     "output_type": "stream",
     "text": [
      "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\n"
     ]
    }
   ],
   "source": [
    "import os\n",
    "from dotenv import load_dotenv\n",
    "load_dotenv()\n",
    "\n",
    "print(os.getenv(\"GROQ_API_KEY\"))"
   ]
  },
  {
   "cell_type": "code",
   "execution_count": null,
   "id": "ba4b617e",
   "metadata": {},
   "outputs": [],
   "source": [
    "from langchain_groq import ChatGroq\n",
    "from langchain_core.prompts import PromptTemplate\n",
    "from langchain_core.messages import HumanMessage, SystemMessage\n"
   ]
  },
  {
   "cell_type": "code",
   "execution_count": null,
   "id": "40bba05b",
   "metadata": {},
   "outputs": [],
   "source": [
    "class GroqLLM:\n",
    "    def __init__(self, model_name: str = \"llama-3.1-8b-instant\", api_key: str =None):\n",
    "        \"\"\"\n",
    "        Initialize Groq LLM\n",
    "        \n",
    "        Args:\n",
    "            model_name: Groq model name (qwen2-72b-instruct, llama3-70b-8192, etc.)\n",
    "            api_key: Groq API key (or set GROQ_API_KEY environment variable)\n",
    "        \"\"\"\n",
    "        self.model_name = model_name\n",
    "        self.api_key = api_key or os.environ.get(\"GROQ_API_KEY\")\n",
    "        \n",
    "        if not self.api_key:\n",
    "            raise ValueError(\"Groq API key is required. Set GROQ_API_KEY environment variable or pass api_key parameter.\")\n",
    "        \n",
    "        self.llm = ChatGroq(\n",
    "            groq_api_key=self.api_key,\n",
    "            model_name=self.model_name,\n",
    "            temperature=0.1,\n",
    "            max_tokens=1024\n",
    "        )\n",
    "        \n",
    "        print(f\"Initialized Groq LLM with model: {self.model_name}\")\n",
    "\n",
    "    def generate_response(self, query: str, context: str, max_length: int = 500) -> str:\n",
    "        \"\"\"\n",
    "        Generate response using retrieved context\n",
    "        \n",
    "        Args:\n",
    "            query: User question\n",
    "            context: Retrieved document context\n",
    "            max_length: Maximum response length\n",
    "            \n",
    "        Returns:\n",
    "            Generated response string\n",
    "        \"\"\"\n",
    "        \n",
    "        # Create prompt template\n",
    "        prompt_template = PromptTemplate(\n",
    "            input_variables=[\"context\", \"question\"],\n",
    "            template=\"\"\"You are a helpful AI assistant. Use the following context to answer the question accurately and concisely.\n",
    "\n",
    "Context:\n",
    "{context}\n",
    "\n",
    "Question: {question}\n",
    "\n",
    "Answer: Provide a clear and informative answer based on the context above. If the context doesn't contain enough information to answer the question, say so.\"\"\"\n",
    "        )\n",
    "        \n",
    "        # Format the prompt\n",
    "        formatted_prompt = prompt_template.format(context=context, question=query)\n",
    "        \n",
    "        try:\n",
    "            # Generate response\n",
    "            messages = [HumanMessage(content=formatted_prompt)]\n",
    "            response = self.llm.invoke(messages)\n",
    "            return response.content\n",
    "            \n",
    "        except Exception as e:\n",
    "            return f\"Error generating response: {str(e)}\"\n",
    "        \n",
    "    def generate_response_simple(self, query: str, context: str) -> str:\n",
    "        \"\"\"\n",
    "        Simple response generation without complex prompting\n",
    "        \n",
    "        Args:\n",
    "            query: User question\n",
    "            context: Retrieved context\n",
    "            \n",
    "        Returns:\n",
    "            Generated response\n",
    "        \"\"\"\n",
    "        simple_prompt = f\"\"\"Based on this context: {context}\n",
    "\n",
    "Question: {query}\n",
    "\n",
    "Answer:\"\"\"\n",
    "        \n",
    "        try:\n",
    "            messages = [HumanMessage(content=simple_prompt)]\n",
    "            response = self.llm.invoke(messages)\n",
    "            return response.content\n",
    "        except Exception as e:\n",
    "            return f\"Error: {str(e)}\"\n",
    "    \n"
   ]
  },
  {
   "cell_type": "code",
   "execution_count": null,
   "id": "b1fc0f74",
   "metadata": {},
   "outputs": [
    {
     "name": "stdout",
     "output_type": "stream",
     "text": [
      "Initialized Groq LLM with model: llama-3.1-8b-instant\n",
      "Groq LLM initialized successfully!\n"
     ]
    }
   ],
   "source": [
    "# Initialize Groq LLM (you'll need to set GROQ_API_KEY environment variable)\n",
    "try:\n",
    "    groq_llm = GroqLLM(api_key=os.getenv(\"GROQ_API_KEY\"))\n",
    "    print(\"Groq LLM initialized successfully!\")\n",
    "except ValueError as e:\n",
    "    print(f\"Warning: {e}\")\n",
    "    print(\"Please set your GROQ_API_KEY environment variable to use the LLM.\")\n",
    "    groq_llm = None"
   ]
  },
  {
   "cell_type": "code",
   "execution_count": null,
   "id": "c4110c55",
   "metadata": {},
   "outputs": [
    {
     "name": "stdout",
     "output_type": "stream",
     "text": [
      "Retrieving documents for query: 'what is supply chain management'\n",
      "Top K: 5, Score threshold: 0.0\n",
      "Generating embeddings for 1 texts...\n"
     ]
    },
    {
     "name": "stderr",
     "output_type": "stream",
     "text": [
      "Batches: 100%|██████████| 1/1 [00:00<00:00, 81.97it/s]"
     ]
    },
    {
     "name": "stdout",
     "output_type": "stream",
     "text": [
      "Generated embeddings with shape: (1, 384)\n",
      "Retrieved 0 documents (after filtering)\n"
     ]
    },
    {
     "name": "stderr",
     "output_type": "stream",
     "text": [
      "\n"
     ]
    },
    {
     "data": {
      "text/plain": [
       "[]"
      ]
     },
     "execution_count": 19,
     "metadata": {},
     "output_type": "execute_result"
    }
   ],
   "source": [
    "### get the context from the retriever and pass it to the LLM\n",
    "\n",
    "rag_retriever.retrieve(\"what is supply chain management\")"
   ]
  },
  {
   "cell_type": "markdown",
   "id": "5ea465ac",
   "metadata": {},
   "source": [
    "### Integration Vectordb Context pipeline With LLM output"
   ]
  },
  {
   "cell_type": "code",
   "execution_count": null,
   "id": "a950a0c1",
   "metadata": {},
   "outputs": [],
   "source": [
    "### Simple RAG pipeline with Groq LLM\n",
    "from langchain_groq import ChatGroq\n",
    "import os\n",
    "from dotenv import load_dotenv\n",
    "load_dotenv()\n",
    "\n",
    "### Initialize the Groq LLM (set your GROQ_API_KEY in environment)\n",
    "groq_api_key = os.getenv(\"GROQ_API_KEY\")\n",
    "\n",
    "llm = ChatGroq(\n",
    "    groq_api_key=groq_api_key,\n",
    "    model_name=\"llama-3.1-8b-instant\",\n",
    "    temperature=0.1,\n",
    "    max_tokens=1024,\n",
    ")\n",
    "\n",
    "## 2. Simple RAG function: retrieve context + generate response\n",
    "def rag_simple(query,retriever,llm,top_k=3):\n",
    "    ## retriever the context\n",
    "    results=retriever.retrieve(query,top_k=top_k)\n",
    "    context=\"\\n\\n\".join([doc['content'] for doc in results]) if results else \"\"\n",
    "    if not context:\n",
    "        return \"No relevant context found to answer the question.\"\n",
    "    \n",
    "    ## generate the answwer using GROQ LLM\n",
    "    prompt=f\"\"\"Use the following context to answer the question concisely.\n",
    "        Context:\n",
    "        {context}\n",
    "\n",
    "        Question: {query}\n",
    "\n",
    "        Answer:\"\"\"\n",
    "    \n",
    "    response=llm.invoke([prompt.format(context=context,query=query)])\n",
    "    return response.content"
   ]
  },
  {
   "cell_type": "code",
   "execution_count": null,
   "id": "df1bf366",
   "metadata": {},
   "outputs": [
    {
     "name": "stdout",
     "output_type": "stream",
     "text": [
      "Retrieving documents for query: ' what is supply chain management  '\n",
      "Top K: 3, Score threshold: 0.0\n",
      "Generating embeddings for 1 texts...\n"
     ]
    },
    {
     "name": "stderr",
     "output_type": "stream",
     "text": [
      "Batches: 100%|██████████| 1/1 [00:00<00:00, 74.61it/s]"
     ]
    },
    {
     "name": "stdout",
     "output_type": "stream",
     "text": [
      "Generated embeddings with shape: (1, 384)\n",
      "Retrieved 0 documents (after filtering)\n"
     ]
    },
    {
     "name": "stderr",
     "output_type": "stream",
     "text": [
      "\n"
     ]
    }
   ],
   "source": [
    "answer=rag_simple(\" what is supply chain management  \",rag_retriever,llm)"
   ]
  },
  {
   "cell_type": "markdown",
   "id": "6857b1c2",
   "metadata": {},
   "source": [
    "### Enhanced RAG Pipeline Features"
   ]
  },
  {
   "cell_type": "code",
   "execution_count": null,
   "id": "2832fd17",
   "metadata": {},
   "outputs": [
    {
     "name": "stdout",
     "output_type": "stream",
     "text": [
      "Retrieving documents for query: 'Hard Negative Mining Technqiues'\n",
      "Top K: 3, Score threshold: 0.1\n",
      "Generating embeddings for 1 texts...\n"
     ]
    },
    {
     "name": "stderr",
     "output_type": "stream",
     "text": [
      "Batches: 100%|██████████| 1/1 [00:00<00:00, 69.56it/s]"
     ]
    },
    {
     "name": "stdout",
     "output_type": "stream",
     "text": [
      "Generated embeddings with shape: (1, 384)\n",
      "Retrieved 0 documents (after filtering)\n",
      "Answer: No relevant context found.\n",
      "Sources: []\n",
      "Confidence: 0.0\n",
      "Context Preview: \n"
     ]
    },
    {
     "name": "stderr",
     "output_type": "stream",
     "text": [
      "\n"
     ]
    }
   ],
   "source": [
    "# --- Enhanced RAG Pipeline Features ---\n",
    "def rag_advanced(query, retriever, llm, top_k=5, min_score=0.2, return_context=False):\n",
    "    \"\"\"\n",
    "    RAG pipeline with extra features:\n",
    "    - Returns answer, sources, confidence score, and optionally full context.\n",
    "    \"\"\"\n",
    "    results = retriever.retrieve(query, top_k=top_k, score_threshold=min_score)\n",
    "    if not results:\n",
    "        return {'answer': 'No relevant context found.', 'sources': [], 'confidence': 0.0, 'context': ''}\n",
    "    \n",
    "    # Prepare context and sources\n",
    "    context = \"\\n\\n\".join([doc['content'] for doc in results])\n",
    "    sources = [{\n",
    "        'source': doc['metadata'].get('source_file', doc['metadata'].get('source', 'unknown')),\n",
    "        'page': doc['metadata'].get('page', 'unknown'),\n",
    "        'score': doc['similarity_score'],\n",
    "        'preview': doc['content'][:300] + '...'\n",
    "    } for doc in results]\n",
    "    confidence = max([doc['similarity_score'] for doc in results])\n",
    "    \n",
    "    # Generate answer\n",
    "    prompt = f\"\"\"Use the following context to answer the question concisely.\\nContext:\\n{context}\\n\\nQuestion: {query}\\n\\nAnswer:\"\"\"\n",
    "    response = llm.invoke([prompt.format(context=context, query=query)])\n",
    "    \n",
    "    output = {\n",
    "        'answer': response.content,\n",
    "        'sources': sources,\n",
    "        'confidence': confidence\n",
    "    }\n",
    "    if return_context:\n",
    "        output['context'] = context\n",
    "    return output\n",
    "\n",
    "# Example usage:\n",
    "result = rag_advanced(\"Hard Negative Mining Technqiues\", rag_retriever, llm, top_k=3, min_score=0.1, return_context=True)\n",
    "print(\"Answer:\", result['answer'])\n",
    "print(\"Sources:\", result['sources'])\n",
    "print(\"Confidence:\", result['confidence'])\n",
    "print(\"Context Preview:\", result['context'][:300])"
   ]
  },
  {
   "cell_type": "code",
   "execution_count": null,
   "id": "aa6150d0",
   "metadata": {},
   "outputs": [
    {
     "name": "stdout",
     "output_type": "stream",
     "text": [
      "Retrieving documents for query: 'what vacuum pressure impregnation '\n",
      "Top K: 3, Score threshold: 0.1\n",
      "Generating embeddings for 1 texts...\n"
     ]
    },
    {
     "name": "stderr",
     "output_type": "stream",
     "text": [
      "Batches: 100%|██████████| 1/1 [00:00<00:00, 74.69it/s]"
     ]
    },
    {
     "name": "stdout",
     "output_type": "stream",
     "text": [
      "Generated embeddings with shape: (1, 384)\n",
      "Retrieved 0 documents (after filtering)\n",
      "\n",
      "Final Answer: No relevant context found.\n",
      "Summary: There is no information to summarize as the provided answer is a statement indicating that no relevant context was found.\n",
      "History: {'question': 'what vacuum pressure impregnation ', 'answer': 'No relevant context found.', 'sources': [], 'summary': 'There is no information to summarize as the provided answer is a statement indicating that no relevant context was found.'}\n"
     ]
    },
    {
     "name": "stderr",
     "output_type": "stream",
     "text": [
      "\n"
     ]
    }
   ],
   "source": [
    "# --- Advanced RAG Pipeline: Streaming, Citations, History, Summarization ---\n",
    "from typing import List, Dict, Any\n",
    "import time\n",
    "\n",
    "class AdvancedRAGPipeline:\n",
    "    def __init__(self, retriever, llm):\n",
    "        self.retriever = retriever\n",
    "        self.llm = llm\n",
    "        self.history = []  # Store query history\n",
    "\n",
    "    def query(self, question: str, top_k: int = 5, min_score: float = 0.2, stream: bool = False, summarize: bool = False) -> Dict[str, Any]:\n",
    "        # Retrieve relevant documents\n",
    "        results = self.retriever.retrieve(question, top_k=top_k, score_threshold=min_score)\n",
    "        if not results:\n",
    "            answer = \"No relevant context found.\"\n",
    "            sources = []\n",
    "            context = \"\"\n",
    "        else:\n",
    "            context = \"\\n\\n\".join([doc['content'] for doc in results])\n",
    "            sources = [{\n",
    "                'source': doc['metadata'].get('source_file', doc['metadata'].get('source', 'unknown')),\n",
    "                'page': doc['metadata'].get('page', 'unknown'),\n",
    "                'score': doc['similarity_score'],\n",
    "                'preview': doc['content'][:120] + '...'\n",
    "            } for doc in results]\n",
    "            # Streaming answer simulation\n",
    "            prompt = f\"\"\"Use the following context to answer the question concisely.\\nContext:\\n{context}\\n\\nQuestion: {question}\\n\\nAnswer:\"\"\"\n",
    "            if stream:\n",
    "                print(\"Streaming answer:\")\n",
    "                for i in range(0, len(prompt), 80):\n",
    "                    print(prompt[i:i+80], end='', flush=True)\n",
    "                    time.sleep(0.05)\n",
    "                print()\n",
    "            response = self.llm.invoke([prompt.format(context=context, question=question)])\n",
    "            answer = response.content\n",
    "\n",
    "        # Add citations to answer\n",
    "        citations = [f\"[{i+1}] {src['source']} (page {src['page']})\" for i, src in enumerate(sources)]\n",
    "        answer_with_citations = answer + \"\\n\\nCitations:\\n\" + \"\\n\".join(citations) if citations else answer\n",
    "\n",
    "        # Optionally summarize answer\n",
    "        summary = None\n",
    "        if summarize and answer:\n",
    "            summary_prompt = f\"Summarize the following answer in 2 sentences:\\n{answer}\"\n",
    "            summary_resp = self.llm.invoke([summary_prompt])\n",
    "            summary = summary_resp.content\n",
    "\n",
    "        # Store query history\n",
    "        self.history.append({\n",
    "            'question': question,\n",
    "            'answer': answer,\n",
    "            'sources': sources,\n",
    "            'summary': summary\n",
    "        })\n",
    "\n",
    "        return {\n",
    "            'question': question,\n",
    "            'answer': answer_with_citations,\n",
    "            'sources': sources,\n",
    "            'summary': summary,\n",
    "            'history': self.history\n",
    "        }\n",
    "\n",
    "# Example usage:\n",
    "adv_rag = AdvancedRAGPipeline(rag_retriever, llm)\n",
    "result = adv_rag.query(\"what vacuum pressure impregnation \", top_k=3, min_score=0.1, stream=True, summarize=True)\n",
    "print(\"\\nFinal Answer:\", result['answer'])\n",
    "print(\"Summary:\", result['summary'])\n",
    "print(\"History:\", result['history'][-1])"
   ]
  },
  {
   "cell_type": "code",
   "execution_count": null,
   "id": "d695e1b2",
   "metadata": {},
   "outputs": [],
   "source": []
  }
 ],
 "metadata": {
  "kernelspec": {
   "display_name": "venv",
   "language": "python",
   "name": "python3"
  },
  "language_info": {
   "codemirror_mode": {
    "name": "ipython",
    "version": 3
   },
   "file_extension": ".py",
   "mimetype": "text/x-python",
   "name": "python",
   "nbconvert_exporter": "python",
   "pygments_lexer": "ipython3",
   "version": "3.13.9"
  }
 },
 "nbformat": 4,
 "nbformat_minor": 5
}
